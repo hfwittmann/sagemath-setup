{
 "cells": [
  {
   "cell_type": "markdown",
   "metadata": {
    "lang": "de"
   },
   "source": [
    "# H. Felix Wittmann, Ph. D. cantab\n",
    "\n",
    "Persönliche Daten\n",
    "● Geburtsdatum: 31.1.1967 in Ludwigshafen, Deutschland\n",
    "● Nationalität: Deutsch\n",
    "● Familienstand: verheiratet, 2 Kinder\n",
    "\n",
    "PERSÖNLICHES STATEMENT\n",
    "Ein leidenschaftlicher, sachkundiger und fähiger Physiker und Programmierer. Umfangreiche Publikationen\n",
    "\n",
    "Open-Source-Beiträge zu wichtigen Projekten und Aufbau einer eigenen Blogging-Site. Langjährige Erfahrung im Projekt- und Teammanagement, in der strategischen Planung sowie in der Konzeption und Konstruktion neuer Workflows. Ein selbstbewusster Präsentator, Lehrer und Motivator, der in der Lage ist, komplexe Informationen für ein Publikum auf allen Ebenen transparent zu machen.\n",
    "\n",
    "Aktuell als Data Scientist bei der R+V\n",
    "\n",
    "● Weiterhin Veröffentlichungen auf meiner Blogging-Website https://arthought.com\n",
    "\n",
    "felix.wittmann@arthought.\n",
    "\n",
    "<img src=\"../pics/hfw.jpg\" alt=\"Drawing\" style=\"width: 100px;float:left\"/>"
   ]
  },
  {
   "cell_type": "markdown",
   "metadata": {
    "ExecuteTime": {
     "end_time": "2021-04-15T12:44:10.617307Z",
     "start_time": "2021-04-15T12:44:10.611599Z"
    },
    "heading_collapsed": true
   },
   "source": [
    "## Notebook Configuration"
   ]
  },
  {
   "cell_type": "code",
   "execution_count": 1,
   "metadata": {
    "ExecuteTime": {
     "end_time": "2021-10-19T14:36:48.279946Z",
     "start_time": "2021-10-19T14:36:48.273425Z"
    },
    "hidden": true
   },
   "outputs": [],
   "source": [
    "## Set notebook style\n",
    "## Left align of equations"
   ]
  },
  {
   "cell_type": "code",
   "execution_count": 2,
   "metadata": {
    "ExecuteTime": {
     "end_time": "2021-10-19T14:36:49.237080Z",
     "start_time": "2021-10-19T14:36:49.223351Z"
    },
    "code_folding": [
     3
    ],
    "hidden": true
   },
   "outputs": [
    {
     "data": {
      "text/html": [
       "\n",
       "<script>\n",
       "    MathJax.Hub.Config({\n",
       "        displayAlign: 'left'\n",
       "    });\n",
       "</script>\n"
      ],
      "text/plain": [
       "<IPython.core.display.HTML object>"
      ]
     },
     "execution_count": 2,
     "metadata": {},
     "output_type": "execute_result"
    }
   ],
   "source": [
    "from IPython.core.display import HTML\n",
    "HTML(\n",
    "'''\n",
    "<script>\n",
    "    MathJax.Hub.Config({\n",
    "        displayAlign: 'left'\n",
    "    });\n",
    "</script>\n",
    "''')\n"
   ]
  },
  {
   "cell_type": "code",
   "execution_count": 4,
   "metadata": {
    "ExecuteTime": {
     "end_time": "2021-10-19T14:36:59.616798Z",
     "start_time": "2021-10-19T14:36:59.613262Z"
    },
    "hidden": true
   },
   "outputs": [],
   "source": [
    "# !pip install pandas"
   ]
  },
  {
   "cell_type": "code",
   "execution_count": 5,
   "metadata": {
    "ExecuteTime": {
     "end_time": "2021-10-19T14:37:01.686385Z",
     "start_time": "2021-10-19T14:37:00.968240Z"
    },
    "hidden": true
   },
   "outputs": [],
   "source": [
    "import pandas as pd\n",
    "import numpy as np\n",
    "from matplotlib import pyplot as plt"
   ]
  },
  {
   "cell_type": "markdown",
   "metadata": {
    "hidden": true,
    "lang": "de"
   },
   "source": [
    "### Befehle definieren (klicken, um sichtbar zu machen)\n",
    "$\\newcommand{\\?}{\\stackrel{?}{=}}$\n",
    "$\\newcommand{\\!}{\\stackrel{!}{=}}$\n",
    "$\\newcommand{\\issmaller}{\\stackrel{?}{<}}$\n",
    "$\\newcommand{\\linf}{\\lim _{n\\to \\infty }}$\n",
    "$\\newcommand{\\euler}{e}$"
   ]
  },
  {
   "cell_type": "markdown",
   "metadata": {
    "hidden": true
   },
   "source": [
    "$A\\!B$"
   ]
  },
  {
   "cell_type": "markdown",
   "metadata": {
    "lang": "de"
   },
   "source": [
    "## \"Durch Logik beweisen wir etwas, aber durch Intuition entdecken wir etwas.\"\n",
    "- https://en.wikiquote.org/wiki/Henri_Poincar%C3%A9"
   ]
  },
  {
   "cell_type": "markdown",
   "metadata": {},
   "source": [
    "# <font color=\"brown\"> Mathematik 1- Teil a</font>\n",
    "\n",
    "Bemerkung : Die Vorlesung folgt im wesentlichen der Mathematik 2 - Vorlesung von Prof. Volker Scheidemann vom Sommersemmester 2020. Die Jupyter Notebooks illustrieren Beispiele und dienen der Veranschaulichung."
   ]
  },
  {
   "cell_type": "markdown",
   "metadata": {},
   "source": [
    "# To run your Own SageMath instance:\n",
    "https://github.com/hfwittmann/sagemath-setup"
   ]
  },
  {
   "cell_type": "markdown",
   "metadata": {},
   "source": [
    "# Binder\n",
    "Dieses sagemath notebook kann ohne etwas installieren zu müssen, in einer Online Binderumgebung genutzt werden.\n",
    "\n",
    "https://github.com/sagemath/sage-binder-env\n",
    "\n",
    "(Der Link ist ganz oben, ein Button namens \"Launch Binder\")"
   ]
  },
  {
   "cell_type": "markdown",
   "metadata": {},
   "source": [
    "# Links\n",
    "- https://de.wikibooks.org/wiki/Mathe_f%C3%BCr_Nicht-Freaks\n",
    "- https://en.m.wikibooks.org/wiki/Shelf:University_level_mathematics_books\n",
    "- https://de.m.wikibooks.org/wiki/Regal:Mathematik\n",
    "- https://www.wikiversity.org/\n",
    "- https://de.m.wikipedia.org/wiki/Liste_mathematischer_Symbole\n",
    "- https://blog.finxter.com/top-10-python-math-cheat-sheets/\n",
    "- https://tutorial.math.lamar.edu/\n",
    "\n",
    "Mathematik Ratgeber Harri Deutsch"
   ]
  },
  {
   "cell_type": "markdown",
   "metadata": {},
   "source": [
    "## <font color='red'>Anfang Vorlesung 1 </font>"
   ]
  },
  {
   "cell_type": "markdown",
   "metadata": {},
   "source": [
    "## Vormerkung : \n",
    "\n",
    " - Nomenklatur\n",
    " - Python\n"
   ]
  },
  {
   "cell_type": "markdown",
   "metadata": {},
   "source": [
    "# Summen und Produkte\n",
    "\n",
    "$\\sum$ $\\land$ $\\prod$\n",
    "\n",
    "\n",
    "... beides sind for Schleifen"
   ]
  },
  {
   "cell_type": "code",
   "execution_count": 9,
   "metadata": {
    "ExecuteTime": {
     "end_time": "2021-10-19T14:50:03.455094Z",
     "start_time": "2021-10-19T14:50:03.448675Z"
    }
   },
   "outputs": [
    {
     "name": "stdout",
     "output_type": "stream",
     "text": [
      "mysum: 55\n"
     ]
    }
   ],
   "source": [
    "A = [1,4,9,16,25]\n",
    "\n",
    "mysum = 0\n",
    "\n",
    "for a in A:\n",
    "    mysum = mysum + a\n",
    "    \n",
    "print('mysum:', mysum)"
   ]
  },
  {
   "cell_type": "markdown",
   "metadata": {},
   "source": [
    "... ist äquivalent zu \n",
    "$\\sum_{i\\in\\{1,4,9,16,25\\}}i$ = 55\n",
    "\n",
    "Eine alternative Schreibweise ist \n",
    "- $\\sum_{i=1}^{i=5}{i^2} = 55$ \n",
    "\n",
    "Ebenfalls benutzt wird:\n",
    "- $\\sum_{i=1}^{5}{i^2} = 55$ \n"
   ]
  },
  {
   "cell_type": "code",
   "execution_count": 1,
   "metadata": {
    "ExecuteTime": {
     "end_time": "2021-10-30T10:19:08.445745Z",
     "start_time": "2021-10-30T10:19:08.432289Z"
    }
   },
   "outputs": [
    {
     "name": "stdout",
     "output_type": "stream",
     "text": [
      "myprod: 120\n"
     ]
    }
   ],
   "source": [
    "A = [1,2,3,4,5]\n",
    "\n",
    "myprod = 1\n",
    "\n",
    "for a in A:\n",
    "    myprod = myprod * a\n",
    "    \n",
    "print('myprod:', myprod)"
   ]
  },
  {
   "cell_type": "markdown",
   "metadata": {},
   "source": [
    "... ist äquivalent zu \n",
    "$\\prod_{i\\in\\{1,2,3,4,5\\}}i$ = 120\n",
    "\n",
    "Eine alternative Schreibweise ist \n",
    "- $\\prod_{i=1}^{i=5}{i} = 120$ \n",
    "\n",
    "Ebenfalls benutzt wird:\n",
    "- $\\prod_{i=1}^{5}{i} = 120$ "
   ]
  },
  {
   "cell_type": "markdown",
   "metadata": {},
   "source": [
    "## Beispiele für Latex\n",
    "\n",
    "$\\sum_{i=1}^{i=100}i \\? 1+2+3+4+5+..+ 100 = 5050$\n",
    "\n",
    "$\\sum_{i=1}^{100} i = 1+2+3+ ...+ 100$\n",
    "\n",
    "$M=\\{j\\in \\mathbb{N}|j<=100 \\}$\n",
    "\n",
    "$\\sum_{i\\in M} i = 1+2+3+ ...+ 100$\n",
    "\n",
    "\n",
    "\n",
    "$\\prod_{i=1}^{i=5} i = 1*2*3*4*5 = 120$\n",
    "\n",
    "\n",
    "$\\prod_{i=0}^{i=5} i = 0 * 1 * 2 * 3 * 4 * 5$\n",
    "\n",
    "$\\prod_{i=0}^{i=5} 1 = 1 * 1 * 1 * 1 * 1 * 1 = 1$\n",
    "\n",
    "$\\prod_{i=0}^{i=1} (-1) = (-1) * (-1) = (-1)^2 = 1$\n",
    "\n",
    "$\\prod_{i=0}^{i=100} (-1) = (-1) ^ {101} = -1$\n"
   ]
  },
  {
   "cell_type": "code",
   "execution_count": null,
   "metadata": {},
   "outputs": [],
   "source": []
  },
  {
   "cell_type": "markdown",
   "metadata": {},
   "source": [
    "$\\sum_{k=0}^{k=4}{(2\\cdot k+1)} = 1 + 3 + 5 + 7 + 9 = 25$\n",
    "\n",
    "$\\sum_{k=0}^{k=99}{(2\\cdot k+1)} = 1 + 3 + 5 ... + 199 = 10000$\n",
    "\n",
    "$\\sum_{p\\in \\mathbb{P}} \\frac{1}{p} = 1/2 + 1/3 + 1/5 + 1/7 + 1/11 + ... $\n",
    "\n",
    "$\\sum_{n=1}^{100}{\\frac{n-1}{n+1}} = \\frac{0}{2} + \\frac{1}{3} + \\frac{2}{4} + \\frac{3}{5} + ... $\n",
    "\n",
    "$\\prod_{\\gamma=1}^{\\gamma=12} \\frac{13-\\gamma}{\\gamma} = \\frac{12}{1} \\cdot \\frac{11}{2} \\cdot \\frac{10}{3} \\cdot ... \\cdot \\frac{1}{12} = \\frac{12!}{12!} = 1 $\n",
    "\n",
    "$4!=4 \\cdot 3! = 4 \\cdot 3 \\cdot 2! = 4\\cdot 3 \\cdot 2 \\cdot 1! = 4\\cdot 3 \\cdot 2 \\cdot 1 \\cdot 0! =  4\\cdot 3 \\cdot 2 \\cdot 1 \\cdot 1$"
   ]
  },
  {
   "cell_type": "markdown",
   "metadata": {},
   "source": [
    "# <font color=\"green\"> Einschub: Venn Diagrams (Notebook) </font>\n",
    "\n",
    "https://de.wikibooks.org/wiki/Mathe_f%C3%BCr_Nicht-Freaks:_Gesetze_der_Logik"
   ]
  },
  {
   "cell_type": "code",
   "execution_count": null,
   "metadata": {},
   "outputs": [],
   "source": []
  },
  {
   "cell_type": "markdown",
   "metadata": {
    "heading_collapsed": true
   },
   "source": [
    "# Eigene Einfache Implementierungen des Kartesischen Produktes und der Potentzmenge"
   ]
  },
  {
   "cell_type": "code",
   "execution_count": 16,
   "metadata": {
    "ExecuteTime": {
     "end_time": "2021-10-20T09:54:26.166926Z",
     "start_time": "2021-10-20T09:54:26.159979Z"
    },
    "hidden": true
   },
   "outputs": [],
   "source": [
    "from itertools import chain, combinations, product\n",
    "\n",
    "def my_cartesian_product(iterable):\n",
    "    return product(*iterable)\n",
    "    \n",
    "def mypowerset(iterable):\n",
    "    \"powerset([1,2,3]) --> () (1,) (2,) (3,) (1,2) (1,3) (2,3) (1,2,3)\"\n",
    "    s = list(iterable)\n",
    "    # return chain.from_iterable(set([frozenset(c) for c in combinations(s,r)]) for r in range(len(s)+1))\n",
    "    return chain.from_iterable(set(combinations(s, r)) for r in range(len(s)+1))"
   ]
  },
  {
   "cell_type": "code",
   "execution_count": 17,
   "metadata": {
    "ExecuteTime": {
     "end_time": "2021-10-20T09:54:27.172787Z",
     "start_time": "2021-10-20T09:54:27.167373Z"
    },
    "hidden": true
   },
   "outputs": [],
   "source": [
    "def my_simple_cartesian_product(A, B):\n",
    "    return set([(a,b) for a in set(A) for b in set(B)])"
   ]
  },
  {
   "cell_type": "markdown",
   "metadata": {
    "lang": "de"
   },
   "source": [
    "# Kartesisches Produkt"
   ]
  },
  {
   "cell_type": "markdown",
   "metadata": {
    "lang": "de"
   },
   "source": [
    "## Beispiel 1"
   ]
  },
  {
   "cell_type": "code",
   "execution_count": null,
   "metadata": {
    "ExecuteTime": {
     "end_time": "2021-04-16T16:25:07.474204Z",
     "start_time": "2021-04-16T16:25:07.468735Z"
    }
   },
   "outputs": [],
   "source": []
  },
  {
   "cell_type": "code",
   "execution_count": 18,
   "metadata": {
    "ExecuteTime": {
     "end_time": "2021-10-20T09:54:30.446422Z",
     "start_time": "2021-10-20T09:54:30.438413Z"
    }
   },
   "outputs": [
    {
     "name": "stdout",
     "output_type": "stream",
     "text": [
      "A: {1, 2, 3}\n",
      "B: {1, 2, 3}\n",
      "\n",
      "Kartesisches Produkt von A und B: {(1, 2), (2, 1), (3, 1), (1, 1), (2, 3), (3, 3), (2, 2), (3, 2), (1, 3)} (simple Funktion)\n",
      "Kartesisches Produkt von A und B: <itertools.product object at 0x7efad14335c0>\n"
     ]
    }
   ],
   "source": [
    "A = set([1,2,3])\n",
    "B = A\n",
    "\n",
    "print('A:', A)\n",
    "print('B:', B)\n",
    "print()\n",
    "print('Kartesisches Produkt von A und B:', my_simple_cartesian_product(A,B), '(simple Funktion)')\n",
    "print('Kartesisches Produkt von A und B:', my_cartesian_product([A,B]))\n"
   ]
  },
  {
   "cell_type": "markdown",
   "metadata": {},
   "source": [
    "## Mengen A und B"
   ]
  },
  {
   "cell_type": "code",
   "execution_count": 19,
   "metadata": {
    "ExecuteTime": {
     "end_time": "2021-10-20T09:54:56.842065Z",
     "start_time": "2021-10-20T09:54:56.833391Z"
    },
    "lang": "en"
   },
   "outputs": [
    {
     "data": {
      "text/plain": [
       "The Cartesian product of ({1, 2, 3}, {4, 5})"
      ]
     },
     "execution_count": 19,
     "metadata": {},
     "output_type": "execute_result"
    }
   ],
   "source": [
    "A = set([1,2,3])\n",
    "B = set([4,5])\n",
    "\n",
    "cartesian_product([A,B]) "
   ]
  },
  {
   "cell_type": "code",
   "execution_count": 20,
   "metadata": {
    "ExecuteTime": {
     "end_time": "2021-10-20T09:55:04.133938Z",
     "start_time": "2021-10-20T09:55:04.127058Z"
    }
   },
   "outputs": [
    {
     "data": {
      "text/plain": [
       "(1, 4)"
      ]
     },
     "execution_count": 20,
     "metadata": {},
     "output_type": "execute_result"
    }
   ],
   "source": [
    "cartesian_product([A,B]).an_element()"
   ]
  },
  {
   "cell_type": "code",
   "execution_count": 21,
   "metadata": {
    "ExecuteTime": {
     "end_time": "2021-10-20T09:55:05.292479Z",
     "start_time": "2021-10-20T09:55:05.285450Z"
    },
    "lang": "en"
   },
   "outputs": [
    {
     "data": {
      "text/plain": [
       "{(1, 4), (1, 5), (2, 4), (2, 5), (3, 4), (3, 5)}"
      ]
     },
     "execution_count": 21,
     "metadata": {},
     "output_type": "execute_result"
    }
   ],
   "source": [
    "set(cartesian_product([A,B]) )"
   ]
  },
  {
   "cell_type": "code",
   "execution_count": 22,
   "metadata": {
    "ExecuteTime": {
     "end_time": "2021-10-20T09:55:16.528458Z",
     "start_time": "2021-10-20T09:55:16.517998Z"
    }
   },
   "outputs": [],
   "source": [
    "C = Sets().CartesianProducts().example();"
   ]
  },
  {
   "cell_type": "code",
   "execution_count": 23,
   "metadata": {
    "ExecuteTime": {
     "end_time": "2021-10-20T09:55:16.536207Z",
     "start_time": "2021-10-20T09:55:16.530737Z"
    }
   },
   "outputs": [
    {
     "data": {
      "text/plain": [
       "The Cartesian product of (Set of prime numbers (basic implementation), An example of an infinite enumerated set: the non negative integers, An example of a finite enumerated set: {1,2,3})"
      ]
     },
     "execution_count": 23,
     "metadata": {},
     "output_type": "execute_result"
    }
   ],
   "source": [
    "C"
   ]
  },
  {
   "cell_type": "code",
   "execution_count": 24,
   "metadata": {
    "ExecuteTime": {
     "end_time": "2021-10-20T09:55:17.345321Z",
     "start_time": "2021-10-20T09:55:17.339112Z"
    },
    "scrolled": true
   },
   "outputs": [
    {
     "data": {
      "text/plain": [
       "(47, 42, 1)"
      ]
     },
     "execution_count": 24,
     "metadata": {},
     "output_type": "execute_result"
    }
   ],
   "source": [
    "C.an_element()"
   ]
  },
  {
   "cell_type": "markdown",
   "metadata": {
    "heading_collapsed": true
   },
   "source": [
    "## Drei-Tuple"
   ]
  },
  {
   "cell_type": "code",
   "execution_count": 14,
   "metadata": {
    "ExecuteTime": {
     "end_time": "2021-05-20T14:25:11.691723Z",
     "start_time": "2021-05-20T14:25:11.683474Z"
    },
    "hidden": true
   },
   "outputs": [
    {
     "data": {
      "text/plain": [
       "{(1, 4, 7),\n",
       " (1, 4, 45),\n",
       " (1, 4, 89),\n",
       " (1, 4, 111),\n",
       " (1, 4, 270),\n",
       " (1, 5, 7),\n",
       " (1, 5, 45),\n",
       " (1, 5, 89),\n",
       " (1, 5, 111),\n",
       " (1, 5, 270),\n",
       " (2, 4, 7),\n",
       " (2, 4, 45),\n",
       " (2, 4, 89),\n",
       " (2, 4, 111),\n",
       " (2, 4, 270),\n",
       " (2, 5, 7),\n",
       " (2, 5, 45),\n",
       " (2, 5, 89),\n",
       " (2, 5, 111),\n",
       " (2, 5, 270),\n",
       " (3, 4, 7),\n",
       " (3, 4, 45),\n",
       " (3, 4, 89),\n",
       " (3, 4, 111),\n",
       " (3, 4, 270),\n",
       " (3, 5, 7),\n",
       " (3, 5, 45),\n",
       " (3, 5, 89),\n",
       " (3, 5, 111),\n",
       " (3, 5, 270)}"
      ]
     },
     "execution_count": 14,
     "metadata": {},
     "output_type": "execute_result"
    }
   ],
   "source": [
    "A = set([1,2,3])\n",
    "B = set([4,5])\n",
    "C = set([7,45,89,111,270])\n",
    "\n",
    "set(cartesian_product([A,B,C]))"
   ]
  },
  {
   "cell_type": "code",
   "execution_count": 15,
   "metadata": {
    "ExecuteTime": {
     "end_time": "2021-05-20T14:25:11.700511Z",
     "start_time": "2021-05-20T14:25:11.694438Z"
    },
    "hidden": true
   },
   "outputs": [
    {
     "data": {
      "text/plain": [
       "{(1, 1, 1),\n",
       " (1, 1, 2),\n",
       " (1, 1, 3),\n",
       " (1, 2, 1),\n",
       " (1, 2, 2),\n",
       " (1, 2, 3),\n",
       " (1, 3, 1),\n",
       " (1, 3, 2),\n",
       " (1, 3, 3),\n",
       " (2, 1, 1),\n",
       " (2, 1, 2),\n",
       " (2, 1, 3),\n",
       " (2, 2, 1),\n",
       " (2, 2, 2),\n",
       " (2, 2, 3),\n",
       " (2, 3, 1),\n",
       " (2, 3, 2),\n",
       " (2, 3, 3),\n",
       " (3, 1, 1),\n",
       " (3, 1, 2),\n",
       " (3, 1, 3),\n",
       " (3, 2, 1),\n",
       " (3, 2, 2),\n",
       " (3, 2, 3),\n",
       " (3, 3, 1),\n",
       " (3, 3, 2),\n",
       " (3, 3, 3)}"
      ]
     },
     "execution_count": 15,
     "metadata": {},
     "output_type": "execute_result"
    }
   ],
   "source": [
    "set(cartesian_product([A,A,A]))"
   ]
  },
  {
   "cell_type": "code",
   "execution_count": 25,
   "metadata": {
    "ExecuteTime": {
     "end_time": "2021-10-20T09:58:07.746063Z",
     "start_time": "2021-10-20T09:58:07.738634Z"
    },
    "hidden": true
   },
   "outputs": [
    {
     "data": {
      "text/plain": [
       "{(1, 1), (2, 1)}"
      ]
     },
     "execution_count": 25,
     "metadata": {},
     "output_type": "execute_result"
    }
   ],
   "source": [
    "A=set([1,2])\n",
    "B=set([1])\n",
    "set(cartesian_product([A,B]))"
   ]
  },
  {
   "cell_type": "markdown",
   "metadata": {
    "hidden": true
   },
   "source": [
    "$A=\\{1,2\\}$\n",
    "\n",
    "$B=\\{1\\}$\n",
    "\n",
    "$A x B = \\{(1,1),(2,1)\\}$"
   ]
  },
  {
   "cell_type": "markdown",
   "metadata": {},
   "source": [
    "## Relation : Eine Untermenge des Cartesischen Produkts\n",
    "\n",
    "- A = {1,2,3}\n",
    "- B = {4,5}\n",
    "\n",
    "A x B = {(1, 5), (1,4), (2, 4), (2, 5), (3, 4), (3, 5)}\n",
    "\n",
    "Beispiel für Relationen:\n",
    "\n",
    "- 1: Relation von A nach B :{(1, 5), (1,4), (2, 4), (2, 5), (3, 4), (3, 5)}\n",
    "- 2: Relation von A nach B: {(1, 5), (2, 5), (3, 4), (3, 5)}\n",
    "- 3: Relation von A nach B: {}\n",
    "\n"
   ]
  },
  {
   "cell_type": "markdown",
   "metadata": {
    "ExecuteTime": {
     "end_time": "2021-04-15T19:06:06.006118Z",
     "start_time": "2021-04-15T19:06:06.001305Z"
    }
   },
   "source": [
    "## Cartesisches Produkt von einer Menge mit einer beliebigen anderen Menge "
   ]
  },
  {
   "cell_type": "code",
   "execution_count": 17,
   "metadata": {
    "ExecuteTime": {
     "end_time": "2021-05-20T14:25:11.718221Z",
     "start_time": "2021-05-20T14:25:11.711134Z"
    }
   },
   "outputs": [
    {
     "data": {
      "text/plain": [
       "set()"
      ]
     },
     "execution_count": 17,
     "metadata": {},
     "output_type": "execute_result"
    }
   ],
   "source": [
    "A=set([1,2])\n",
    "B=set([])\n",
    "set(cartesian_product([A,B]))"
   ]
  },
  {
   "cell_type": "code",
   "execution_count": null,
   "metadata": {},
   "outputs": [],
   "source": []
  },
  {
   "cell_type": "markdown",
   "metadata": {
    "lang": "de"
   },
   "source": [
    "## Beispiel Powerset (Potenzmenge)"
   ]
  },
  {
   "cell_type": "code",
   "execution_count": null,
   "metadata": {
    "ExecuteTime": {
     "end_time": "2021-04-16T16:27:52.227516Z",
     "start_time": "2021-04-16T16:27:52.219397Z"
    }
   },
   "outputs": [],
   "source": []
  },
  {
   "cell_type": "code",
   "execution_count": 18,
   "metadata": {
    "ExecuteTime": {
     "end_time": "2021-05-20T14:25:11.727938Z",
     "start_time": "2021-05-20T14:25:11.720951Z"
    }
   },
   "outputs": [
    {
     "data": {
      "text/plain": [
       "{(), (1,), (1, 2), (1, 2, 3), (1, 3), (2,), (2, 3), (3,)}"
      ]
     },
     "execution_count": 18,
     "metadata": {},
     "output_type": "execute_result"
    }
   ],
   "source": [
    "P_M = set(mypowerset(set([1,2,3])))\n",
    "P_M"
   ]
  },
  {
   "cell_type": "code",
   "execution_count": 19,
   "metadata": {
    "ExecuteTime": {
     "end_time": "2021-05-20T14:25:11.735727Z",
     "start_time": "2021-05-20T14:25:11.729821Z"
    }
   },
   "outputs": [
    {
     "data": {
      "text/plain": [
       "{(1, 1), (1, 2), (1, 3), (2, 1), (2, 2), (2, 3), (3, 1), (3, 2), (3, 3)}"
      ]
     },
     "execution_count": 19,
     "metadata": {},
     "output_type": "execute_result"
    }
   ],
   "source": [
    "A = set([1,2,3])\n",
    "set(cartesian_product([A,A]))"
   ]
  },
  {
   "cell_type": "markdown",
   "metadata": {
    "lang": "de"
   },
   "source": [
    "# Relationen\n",
    "... als Teilmenge des kartesischen Produkts zweier Mengen"
   ]
  },
  {
   "cell_type": "markdown",
   "metadata": {
    "lang": "de"
   },
   "source": [
    "## Beispiel : Die \"kleiner gleich\" Relation\n",
    "für $i,j\\in\\mathbb{N}$ und $i,j <= 10$"
   ]
  },
  {
   "cell_type": "code",
   "execution_count": 25,
   "metadata": {
    "ExecuteTime": {
     "end_time": "2021-05-20T14:25:12.404384Z",
     "start_time": "2021-05-20T14:25:11.796257Z"
    }
   },
   "outputs": [
    {
     "data": {
      "image/png": "[encoded data removed]",
      "text/plain": [
       "Graphics object consisting of 45 graphics primitives"
      ]
     },
     "execution_count": 25,
     "metadata": {},
     "output_type": "execute_result"
    }
   ],
   "source": [
    "h = Graphics()\n",
    "for i in range(9):\n",
    "    for j in range(i+1):\n",
    "\n",
    "        h += point((i, j))\n",
    "h"
   ]
  },
  {
   "cell_type": "markdown",
   "metadata": {
    "lang": "de"
   },
   "source": [
    "## Beispiel : Die Teilbarkeitsrelation"
   ]
  },
  {
   "cell_type": "markdown",
   "metadata": {
    "lang": "de"
   },
   "source": [
    "$a,b \\in \\mathbb{Z}$ wo $a\\neq0$\n",
    "\n",
    "\n",
    "Definition $a|b :\\iff \\exists{k}: b=ka$"
   ]
  },
  {
   "cell_type": "code",
   "execution_count": 26,
   "metadata": {
    "ExecuteTime": {
     "end_time": "2021-05-20T14:25:13.401487Z",
     "start_time": "2021-05-20T14:25:12.406531Z"
    },
    "scrolled": false
   },
   "outputs": [
    {
     "data": {
      "image/png": "[encoded data removed]",
      "text/plain": [
       "Graphics object consisting of 201 graphics primitives"
      ]
     },
     "execution_count": 26,
     "metadata": {},
     "output_type": "execute_result"
    }
   ],
   "source": [
    "h = Graphics()\n",
    "for b in range(0, 50):\n",
    "    for a in range(1, b + 1):\n",
    "\n",
    "        if b%a == 0:\n",
    "            color = hue(a/b)\n",
    "            h += point((a, b), color=color)\n",
    "h.axes_labels(['a  with a|b', 'b'])\n",
    "h"
   ]
  },
  {
   "cell_type": "markdown",
   "metadata": {
    "solution2": "hidden"
   },
   "source": [
    "# Einfache Beispiele für die Nomenklatur\n",
    "\n",
    "$d=7 \\land a = 21 \\rightarrow d|a\\ {weil}\\ k=3 : d\\cdot k = a$\n",
    "\n",
    "$d=7 \\land b = 28 \\rightarrow d|b\\ {weil}\\ l=4 : d\\cdot l = b$\n"
   ]
  },
  {
   "cell_type": "markdown",
   "metadata": {
    "lang": "de",
    "solution2": "hidden",
    "solution2_first": true
   },
   "source": [
    "## <font color=\"orange\">Übung (Teilbarkeitsregeln)</font> (15min)\n",
    "\n",
    "Übung:\n",
    "\n",
    "Seien a, b, d $\\in \\mathbb{Z}$. Zeigen Sie:\n",
    "a) Gilt d|a und d|b, dann gilt auch d|(a+b) und d|ca für jedes c$\\in \\mathbb{Z}$ \n",
    "b) Gilt d|a und d|(a+b), dann gilt auch d|b-"
   ]
  },
  {
   "cell_type": "markdown",
   "metadata": {
    "solution2": "hidden"
   },
   "source": [
    "\n",
    "### Übung \n",
    "a) \n",
    "\n",
    "- $d|a \\iff \\exists k\\in\\mathbb{Z}: a=k*d$\n",
    "- $d|b \\iff \\exists l\\in\\mathbb{Z}:b=l*d$\n",
    "\n",
    "Deshalb\n",
    "1. $a+b=k*d+l*d=(k+l)*d \\therefore d|(a+b)$\n",
    "2. $a=k*d \\therefore ca = c*(k*d) = (c*k)*d \\therefore d|ca$\n",
    "\n",
    "$c\\cdot a= j \\cdot d \\rightarrow d|ca$\n",
    "\n",
    "b)\n",
    "\n",
    "$d|a \\land d|(a+b) \\iff \\exists (k,l): a=k*d : \\land (a+b)=l*d$\n",
    "\n",
    "$ b = a+b - a = l*d-k*d = (l-k)* d = p d$\n",
    "\n",
    "Deshalb $ d|b \\blacksquare $\n",
    "    \n"
   ]
  },
  {
   "cell_type": "markdown",
   "metadata": {},
   "source": [
    "## <font color='red'>Ende Vorlesung 1 </font>"
   ]
  },
  {
   "cell_type": "markdown",
   "metadata": {
    "lang": "de"
   },
   "source": [
    "# Modulo Arithmetik\n",
    "<img src=\"../pics/pToaMKz8c.png\" alt=\"Drawing\" style=\"width: 100px;float:left\"/>\n",
    "\n"
   ]
  },
  {
   "cell_type": "code",
   "execution_count": 30,
   "metadata": {
    "ExecuteTime": {
     "end_time": "2021-10-23T18:20:07.516090Z",
     "start_time": "2021-10-23T18:20:07.492089Z"
    }
   },
   "outputs": [],
   "source": [
    "import pandas as pd\n",
    "from IPython.display import display, Markdown\n",
    "hours = \"🕐🕑🕒🕓🕔🕕🕖🕗🕘🕙🕚🕛\""
   ]
  },
  {
   "cell_type": "code",
   "execution_count": 31,
   "metadata": {
    "ExecuteTime": {
     "end_time": "2021-10-23T18:20:08.359026Z",
     "start_time": "2021-10-23T18:20:08.185277Z"
    }
   },
   "outputs": [
    {
     "data": {
      "text/html": [
       "<div>\n",
       "<style scoped>\n",
       "    .dataframe tbody tr th:only-of-type {\n",
       "        vertical-align: middle;\n",
       "    }\n",
       "\n",
       "    .dataframe tbody tr th {\n",
       "        vertical-align: top;\n",
       "    }\n",
       "\n",
       "    .dataframe thead th {\n",
       "        text-align: right;\n",
       "    }\n",
       "</style>\n",
       "<table border=\"1\" class=\"dataframe\">\n",
       "  <thead>\n",
       "    <tr style=\"text-align: right;\">\n",
       "      <th></th>\n",
       "      <th>number</th>\n",
       "      <th>hour</th>\n",
       "      <th>clock</th>\n",
       "    </tr>\n",
       "  </thead>\n",
       "  <tbody>\n",
       "    <tr>\n",
       "      <th>0</th>\n",
       "      <td>0</td>\n",
       "      <td>0</td>\n",
       "      <td>🕛</td>\n",
       "    </tr>\n",
       "    <tr>\n",
       "      <th>1</th>\n",
       "      <td>1</td>\n",
       "      <td>1</td>\n",
       "      <td>🕐</td>\n",
       "    </tr>\n",
       "    <tr>\n",
       "      <th>2</th>\n",
       "      <td>2</td>\n",
       "      <td>2</td>\n",
       "      <td>🕑</td>\n",
       "    </tr>\n",
       "    <tr>\n",
       "      <th>3</th>\n",
       "      <td>3</td>\n",
       "      <td>3</td>\n",
       "      <td>🕒</td>\n",
       "    </tr>\n",
       "    <tr>\n",
       "      <th>4</th>\n",
       "      <td>4</td>\n",
       "      <td>4</td>\n",
       "      <td>🕓</td>\n",
       "    </tr>\n",
       "    <tr>\n",
       "      <th>5</th>\n",
       "      <td>5</td>\n",
       "      <td>5</td>\n",
       "      <td>🕔</td>\n",
       "    </tr>\n",
       "    <tr>\n",
       "      <th>6</th>\n",
       "      <td>6</td>\n",
       "      <td>6</td>\n",
       "      <td>🕕</td>\n",
       "    </tr>\n",
       "    <tr>\n",
       "      <th>7</th>\n",
       "      <td>7</td>\n",
       "      <td>7</td>\n",
       "      <td>🕖</td>\n",
       "    </tr>\n",
       "    <tr>\n",
       "      <th>8</th>\n",
       "      <td>8</td>\n",
       "      <td>8</td>\n",
       "      <td>🕗</td>\n",
       "    </tr>\n",
       "    <tr>\n",
       "      <th>9</th>\n",
       "      <td>9</td>\n",
       "      <td>9</td>\n",
       "      <td>🕘</td>\n",
       "    </tr>\n",
       "    <tr>\n",
       "      <th>10</th>\n",
       "      <td>10</td>\n",
       "      <td>10</td>\n",
       "      <td>🕙</td>\n",
       "    </tr>\n",
       "    <tr>\n",
       "      <th>11</th>\n",
       "      <td>11</td>\n",
       "      <td>11</td>\n",
       "      <td>🕚</td>\n",
       "    </tr>\n",
       "    <tr>\n",
       "      <th>12</th>\n",
       "      <td>12</td>\n",
       "      <td>0</td>\n",
       "      <td>🕛</td>\n",
       "    </tr>\n",
       "    <tr>\n",
       "      <th>13</th>\n",
       "      <td>13</td>\n",
       "      <td>1</td>\n",
       "      <td>🕐</td>\n",
       "    </tr>\n",
       "    <tr>\n",
       "      <th>14</th>\n",
       "      <td>14</td>\n",
       "      <td>2</td>\n",
       "      <td>🕑</td>\n",
       "    </tr>\n",
       "    <tr>\n",
       "      <th>15</th>\n",
       "      <td>15</td>\n",
       "      <td>3</td>\n",
       "      <td>🕒</td>\n",
       "    </tr>\n",
       "    <tr>\n",
       "      <th>16</th>\n",
       "      <td>16</td>\n",
       "      <td>4</td>\n",
       "      <td>🕓</td>\n",
       "    </tr>\n",
       "    <tr>\n",
       "      <th>17</th>\n",
       "      <td>17</td>\n",
       "      <td>5</td>\n",
       "      <td>🕔</td>\n",
       "    </tr>\n",
       "    <tr>\n",
       "      <th>18</th>\n",
       "      <td>18</td>\n",
       "      <td>6</td>\n",
       "      <td>🕕</td>\n",
       "    </tr>\n",
       "    <tr>\n",
       "      <th>19</th>\n",
       "      <td>19</td>\n",
       "      <td>7</td>\n",
       "      <td>🕖</td>\n",
       "    </tr>\n",
       "    <tr>\n",
       "      <th>20</th>\n",
       "      <td>20</td>\n",
       "      <td>8</td>\n",
       "      <td>🕗</td>\n",
       "    </tr>\n",
       "    <tr>\n",
       "      <th>21</th>\n",
       "      <td>21</td>\n",
       "      <td>9</td>\n",
       "      <td>🕘</td>\n",
       "    </tr>\n",
       "    <tr>\n",
       "      <th>22</th>\n",
       "      <td>22</td>\n",
       "      <td>10</td>\n",
       "      <td>🕙</td>\n",
       "    </tr>\n",
       "    <tr>\n",
       "      <th>23</th>\n",
       "      <td>23</td>\n",
       "      <td>11</td>\n",
       "      <td>🕚</td>\n",
       "    </tr>\n",
       "    <tr>\n",
       "      <th>24</th>\n",
       "      <td>24</td>\n",
       "      <td>0</td>\n",
       "      <td>🕛</td>\n",
       "    </tr>\n",
       "    <tr>\n",
       "      <th>25</th>\n",
       "      <td>25</td>\n",
       "      <td>1</td>\n",
       "      <td>🕐</td>\n",
       "    </tr>\n",
       "    <tr>\n",
       "      <th>26</th>\n",
       "      <td>26</td>\n",
       "      <td>2</td>\n",
       "      <td>🕑</td>\n",
       "    </tr>\n",
       "    <tr>\n",
       "      <th>27</th>\n",
       "      <td>27</td>\n",
       "      <td>3</td>\n",
       "      <td>🕒</td>\n",
       "    </tr>\n",
       "    <tr>\n",
       "      <th>28</th>\n",
       "      <td>28</td>\n",
       "      <td>4</td>\n",
       "      <td>🕓</td>\n",
       "    </tr>\n",
       "    <tr>\n",
       "      <th>29</th>\n",
       "      <td>29</td>\n",
       "      <td>5</td>\n",
       "      <td>🕔</td>\n",
       "    </tr>\n",
       "  </tbody>\n",
       "</table>\n",
       "</div>"
      ],
      "text/plain": [
       "    number hour clock\n",
       "0        0    0     🕛\n",
       "1        1    1     🕐\n",
       "2        2    2     🕑\n",
       "3        3    3     🕒\n",
       "4        4    4     🕓\n",
       "5        5    5     🕔\n",
       "6        6    6     🕕\n",
       "7        7    7     🕖\n",
       "8        8    8     🕗\n",
       "9        9    9     🕘\n",
       "10      10   10     🕙\n",
       "11      11   11     🕚\n",
       "12      12    0     🕛\n",
       "13      13    1     🕐\n",
       "14      14    2     🕑\n",
       "15      15    3     🕒\n",
       "16      16    4     🕓\n",
       "17      17    5     🕔\n",
       "18      18    6     🕕\n",
       "19      19    7     🕖\n",
       "20      20    8     🕗\n",
       "21      21    9     🕘\n",
       "22      22   10     🕙\n",
       "23      23   11     🕚\n",
       "24      24    0     🕛\n",
       "25      25    1     🕐\n",
       "26      26    2     🕑\n",
       "27      27    3     🕒\n",
       "28      28    4     🕓\n",
       "29      29    5     🕔"
      ]
     },
     "execution_count": 31,
     "metadata": {},
     "output_type": "execute_result"
    }
   ],
   "source": [
    "# Look at clock-hours\n",
    "# clock-hours (can be/are) mod 12\n",
    "\n",
    "D = pd.DataFrame()\n",
    "for Number in range(30):\n",
    "    hour = mod(Number, 12)\n",
    "    clock = hours[hour-1]\n",
    "    d = pd.DataFrame({'number':Number, 'hour': hour, 'clock': clock}, index=[Number])\n",
    "    D = D.append(d) \n",
    "    # x= display(Markdown(f\"{Number} &emsp; hour: {hour} &emsp; <font size=5> &emsp; {hours[hour-1]}</font> \"))\n",
    "D"
   ]
  },
  {
   "cell_type": "code",
   "execution_count": 32,
   "metadata": {
    "ExecuteTime": {
     "end_time": "2021-10-23T18:20:09.451560Z",
     "start_time": "2021-10-23T18:20:09.435540Z"
    },
    "scrolled": false
   },
   "outputs": [
    {
     "name": "stdout",
     "output_type": "stream",
     "text": [
      "0 \t mod7: 0\n",
      "1 \t mod7: 1\n",
      "2 \t mod7: 2\n",
      "3 \t mod7: 3\n",
      "4 \t mod7: 4\n",
      "5 \t mod7: 5\n",
      "6 \t mod7: 6\n",
      "7 \t mod7: 0\n",
      "8 \t mod7: 1\n",
      "9 \t mod7: 2\n",
      "10 \t mod7: 3\n",
      "11 \t mod7: 4\n",
      "12 \t mod7: 5\n",
      "13 \t mod7: 6\n",
      "14 \t mod7: 0\n",
      "15 \t mod7: 1\n",
      "16 \t mod7: 2\n",
      "17 \t mod7: 3\n",
      "18 \t mod7: 4\n",
      "19 \t mod7: 5\n",
      "20 \t mod7: 6\n",
      "21 \t mod7: 0\n",
      "22 \t mod7: 1\n",
      "23 \t mod7: 2\n",
      "24 \t mod7: 3\n",
      "25 \t mod7: 4\n",
      "26 \t mod7: 5\n",
      "27 \t mod7: 6\n",
      "28 \t mod7: 0\n",
      "29 \t mod7: 1\n"
     ]
    }
   ],
   "source": [
    "for Number in range(30):\n",
    "    mod7 = mod(Number, 7)\n",
    "    print(f'{Number} \\t mod7: {mod7}')"
   ]
  },
  {
   "cell_type": "markdown",
   "metadata": {
    "lang": "de"
   },
   "source": [
    "# Vergleich\n",
    "- Tabellen für die normale Addition und Multiplikation\n",
    "- Tabellen für Addition und Multiplikation in # Modulo 2, 3 und 5"
   ]
  },
  {
   "cell_type": "markdown",
   "metadata": {},
   "source": [
    "### Modulo 2"
   ]
  },
  {
   "cell_type": "code",
   "execution_count": 33,
   "metadata": {
    "ExecuteTime": {
     "end_time": "2021-10-23T18:20:11.665732Z",
     "start_time": "2021-10-23T18:20:11.658848Z"
    }
   },
   "outputs": [],
   "source": [
    "M = 2"
   ]
  },
  {
   "cell_type": "markdown",
   "metadata": {
    "lang": "de"
   },
   "source": [
    "#### Tabellen für normale Addition ..."
   ]
  },
  {
   "cell_type": "code",
   "execution_count": 34,
   "metadata": {
    "ExecuteTime": {
     "end_time": "2021-10-23T18:20:12.423897Z",
     "start_time": "2021-10-23T18:20:12.405875Z"
    },
    "scrolled": true
   },
   "outputs": [
    {
     "data": {
      "text/html": [
       "<div>\n",
       "<style scoped>\n",
       "    .dataframe tbody tr th:only-of-type {\n",
       "        vertical-align: middle;\n",
       "    }\n",
       "\n",
       "    .dataframe tbody tr th {\n",
       "        vertical-align: top;\n",
       "    }\n",
       "\n",
       "    .dataframe thead th {\n",
       "        text-align: right;\n",
       "    }\n",
       "</style>\n",
       "<table border=\"1\" class=\"dataframe\">\n",
       "  <thead>\n",
       "    <tr style=\"text-align: right;\">\n",
       "      <th></th>\n",
       "      <th>0</th>\n",
       "      <th>1</th>\n",
       "    </tr>\n",
       "  </thead>\n",
       "  <tbody>\n",
       "    <tr>\n",
       "      <th>0</th>\n",
       "      <td>0</td>\n",
       "      <td>1</td>\n",
       "    </tr>\n",
       "    <tr>\n",
       "      <th>1</th>\n",
       "      <td>1</td>\n",
       "      <td>2</td>\n",
       "    </tr>\n",
       "  </tbody>\n",
       "</table>\n",
       "</div>"
      ],
      "text/plain": [
       "   0  1\n",
       "0  0  1\n",
       "1  1  2"
      ]
     },
     "execution_count": 34,
     "metadata": {},
     "output_type": "execute_result"
    }
   ],
   "source": [
    "import pandas as pd\n",
    "import numpy as np\n",
    "my = np.arange(M)\n",
    "addition=pd.DataFrame(np.add.outer(my, my))\n",
    "addition"
   ]
  },
  {
   "cell_type": "code",
   "execution_count": 35,
   "metadata": {
    "ExecuteTime": {
     "end_time": "2021-10-23T18:20:12.783144Z",
     "start_time": "2021-10-23T18:20:12.614206Z"
    },
    "scrolled": false
   },
   "outputs": [
    {
     "data": {
      "image/png": "[encoded data removed]",
      "text/plain": [
       "<Figure size 432x288 with 1 Axes>"
      ]
     },
     "metadata": {
      "needs_background": "light"
     },
     "output_type": "display_data"
    }
   ],
   "source": [
    "import matplotlib.pyplot as plt\n",
    "fig = plt.imshow(addition.astype(int))\n",
    "\n",
    "fig.axes.get_xaxis().set_visible(False)\n",
    "fig.axes.get_yaxis().set_visible(False)"
   ]
  },
  {
   "cell_type": "markdown",
   "metadata": {
    "lang": "de"
   },
   "source": [
    "#### ... und Multiplikation"
   ]
  },
  {
   "cell_type": "code",
   "execution_count": 36,
   "metadata": {
    "ExecuteTime": {
     "end_time": "2021-10-23T18:20:13.259195Z",
     "start_time": "2021-10-23T18:20:13.246837Z"
    },
    "scrolled": false
   },
   "outputs": [
    {
     "data": {
      "text/html": [
       "<div>\n",
       "<style scoped>\n",
       "    .dataframe tbody tr th:only-of-type {\n",
       "        vertical-align: middle;\n",
       "    }\n",
       "\n",
       "    .dataframe tbody tr th {\n",
       "        vertical-align: top;\n",
       "    }\n",
       "\n",
       "    .dataframe thead th {\n",
       "        text-align: right;\n",
       "    }\n",
       "</style>\n",
       "<table border=\"1\" class=\"dataframe\">\n",
       "  <thead>\n",
       "    <tr style=\"text-align: right;\">\n",
       "      <th></th>\n",
       "      <th>0</th>\n",
       "      <th>1</th>\n",
       "    </tr>\n",
       "  </thead>\n",
       "  <tbody>\n",
       "    <tr>\n",
       "      <th>0</th>\n",
       "      <td>0</td>\n",
       "      <td>0</td>\n",
       "    </tr>\n",
       "    <tr>\n",
       "      <th>1</th>\n",
       "      <td>0</td>\n",
       "      <td>1</td>\n",
       "    </tr>\n",
       "  </tbody>\n",
       "</table>\n",
       "</div>"
      ],
      "text/plain": [
       "   0  1\n",
       "0  0  0\n",
       "1  0  1"
      ]
     },
     "execution_count": 36,
     "metadata": {},
     "output_type": "execute_result"
    }
   ],
   "source": [
    "import matplotlib.pyplot as plt\n",
    "multiplication=pd.DataFrame(np.multiply.outer(my, my))\n",
    "multiplication"
   ]
  },
  {
   "cell_type": "code",
   "execution_count": 37,
   "metadata": {
    "ExecuteTime": {
     "end_time": "2021-10-23T18:20:13.477342Z",
     "start_time": "2021-10-23T18:20:13.371028Z"
    },
    "scrolled": true
   },
   "outputs": [
    {
     "data": {
      "image/png": "[encoded data removed]",
      "text/plain": [
       "<Figure size 432x288 with 1 Axes>"
      ]
     },
     "metadata": {
      "needs_background": "light"
     },
     "output_type": "display_data"
    }
   ],
   "source": [
    "fig = plt.imshow(multiplication.astype(int))\n",
    "\n",
    "fig.axes.get_xaxis().set_visible(False)\n",
    "fig.axes.get_yaxis().set_visible(False)"
   ]
  },
  {
   "cell_type": "code",
   "execution_count": null,
   "metadata": {},
   "outputs": [],
   "source": []
  },
  {
   "cell_type": "markdown",
   "metadata": {
    "lang": "de"
   },
   "source": [
    "#### Tabellen für Mod Addition ..."
   ]
  },
  {
   "cell_type": "code",
   "execution_count": 38,
   "metadata": {
    "ExecuteTime": {
     "end_time": "2021-10-23T18:20:13.944037Z",
     "start_time": "2021-10-23T18:20:13.927338Z"
    },
    "scrolled": true
   },
   "outputs": [
    {
     "data": {
      "text/html": [
       "<div>\n",
       "<style scoped>\n",
       "    .dataframe tbody tr th:only-of-type {\n",
       "        vertical-align: middle;\n",
       "    }\n",
       "\n",
       "    .dataframe tbody tr th {\n",
       "        vertical-align: top;\n",
       "    }\n",
       "\n",
       "    .dataframe thead th {\n",
       "        text-align: right;\n",
       "    }\n",
       "</style>\n",
       "<table border=\"1\" class=\"dataframe\">\n",
       "  <thead>\n",
       "    <tr style=\"text-align: right;\">\n",
       "      <th></th>\n",
       "      <th>0</th>\n",
       "      <th>1</th>\n",
       "    </tr>\n",
       "  </thead>\n",
       "  <tbody>\n",
       "    <tr>\n",
       "      <th>0</th>\n",
       "      <td>0</td>\n",
       "      <td>1</td>\n",
       "    </tr>\n",
       "    <tr>\n",
       "      <th>1</th>\n",
       "      <td>1</td>\n",
       "      <td>0</td>\n",
       "    </tr>\n",
       "  </tbody>\n",
       "</table>\n",
       "</div>"
      ],
      "text/plain": [
       "   0  1\n",
       "0  0  1\n",
       "1  1  0"
      ]
     },
     "execution_count": 38,
     "metadata": {},
     "output_type": "execute_result"
    }
   ],
   "source": [
    "import numpy as np\n",
    "my = [mod(x,M) for x in np.arange(M)]\n",
    "addition=pd.DataFrame(np.add.outer(my, my))\n",
    "addition"
   ]
  },
  {
   "cell_type": "code",
   "execution_count": 39,
   "metadata": {
    "ExecuteTime": {
     "end_time": "2021-10-23T18:20:14.234727Z",
     "start_time": "2021-10-23T18:20:14.123841Z"
    },
    "scrolled": false
   },
   "outputs": [
    {
     "data": {
      "image/png": "[encoded data removed]",
      "text/plain": [
       "<Figure size 432x288 with 1 Axes>"
      ]
     },
     "metadata": {
      "needs_background": "light"
     },
     "output_type": "display_data"
    }
   ],
   "source": [
    "import matplotlib.pyplot as plt\n",
    "fig = plt.imshow(addition.astype(int))\n",
    "\n",
    "fig.axes.get_xaxis().set_visible(False)\n",
    "fig.axes.get_yaxis().set_visible(False)"
   ]
  },
  {
   "cell_type": "markdown",
   "metadata": {
    "lang": "de"
   },
   "source": [
    "#### Tabellen für die Mod-Multiplikation ..."
   ]
  },
  {
   "cell_type": "code",
   "execution_count": 40,
   "metadata": {
    "ExecuteTime": {
     "end_time": "2021-10-23T18:20:14.503447Z",
     "start_time": "2021-10-23T18:20:14.487147Z"
    },
    "scrolled": false
   },
   "outputs": [
    {
     "data": {
      "text/html": [
       "<div>\n",
       "<style scoped>\n",
       "    .dataframe tbody tr th:only-of-type {\n",
       "        vertical-align: middle;\n",
       "    }\n",
       "\n",
       "    .dataframe tbody tr th {\n",
       "        vertical-align: top;\n",
       "    }\n",
       "\n",
       "    .dataframe thead th {\n",
       "        text-align: right;\n",
       "    }\n",
       "</style>\n",
       "<table border=\"1\" class=\"dataframe\">\n",
       "  <thead>\n",
       "    <tr style=\"text-align: right;\">\n",
       "      <th></th>\n",
       "      <th>0</th>\n",
       "      <th>1</th>\n",
       "    </tr>\n",
       "  </thead>\n",
       "  <tbody>\n",
       "    <tr>\n",
       "      <th>0</th>\n",
       "      <td>0</td>\n",
       "      <td>0</td>\n",
       "    </tr>\n",
       "    <tr>\n",
       "      <th>1</th>\n",
       "      <td>0</td>\n",
       "      <td>1</td>\n",
       "    </tr>\n",
       "  </tbody>\n",
       "</table>\n",
       "</div>"
      ],
      "text/plain": [
       "   0  1\n",
       "0  0  0\n",
       "1  0  1"
      ]
     },
     "execution_count": 40,
     "metadata": {},
     "output_type": "execute_result"
    }
   ],
   "source": [
    "import numpy as np\n",
    "my = [mod(x,M) for x in np.arange(M)]\n",
    "addition=pd.DataFrame(np.multiply.outer(my, my))\n",
    "addition"
   ]
  },
  {
   "cell_type": "code",
   "execution_count": 41,
   "metadata": {
    "ExecuteTime": {
     "end_time": "2021-10-23T18:20:14.744587Z",
     "start_time": "2021-10-23T18:20:14.637041Z"
    },
    "scrolled": true
   },
   "outputs": [
    {
     "data": {
      "image/png": "[encoded data removed]",
      "text/plain": [
       "<Figure size 432x288 with 1 Axes>"
      ]
     },
     "metadata": {
      "needs_background": "light"
     },
     "output_type": "display_data"
    }
   ],
   "source": [
    "import matplotlib.pyplot as plt\n",
    "fig = plt.imshow(addition.astype(int))\n",
    "\n",
    "fig.axes.get_xaxis().set_visible(False)\n",
    "fig.axes.get_yaxis().set_visible(False)"
   ]
  },
  {
   "cell_type": "code",
   "execution_count": null,
   "metadata": {},
   "outputs": [],
   "source": []
  },
  {
   "cell_type": "markdown",
   "metadata": {},
   "source": [
    "### Modulo 3"
   ]
  },
  {
   "cell_type": "code",
   "execution_count": 42,
   "metadata": {
    "ExecuteTime": {
     "end_time": "2021-10-23T18:20:15.206253Z",
     "start_time": "2021-10-23T18:20:15.199575Z"
    }
   },
   "outputs": [],
   "source": [
    "M = 3"
   ]
  },
  {
   "cell_type": "markdown",
   "metadata": {
    "lang": "de"
   },
   "source": [
    "#### Tabellen für normale Addition ..."
   ]
  },
  {
   "cell_type": "code",
   "execution_count": 43,
   "metadata": {
    "ExecuteTime": {
     "end_time": "2021-10-23T18:20:15.759006Z",
     "start_time": "2021-10-23T18:20:15.744304Z"
    },
    "scrolled": true
   },
   "outputs": [
    {
     "data": {
      "text/html": [
       "<div>\n",
       "<style scoped>\n",
       "    .dataframe tbody tr th:only-of-type {\n",
       "        vertical-align: middle;\n",
       "    }\n",
       "\n",
       "    .dataframe tbody tr th {\n",
       "        vertical-align: top;\n",
       "    }\n",
       "\n",
       "    .dataframe thead th {\n",
       "        text-align: right;\n",
       "    }\n",
       "</style>\n",
       "<table border=\"1\" class=\"dataframe\">\n",
       "  <thead>\n",
       "    <tr style=\"text-align: right;\">\n",
       "      <th></th>\n",
       "      <th>0</th>\n",
       "      <th>1</th>\n",
       "      <th>2</th>\n",
       "    </tr>\n",
       "  </thead>\n",
       "  <tbody>\n",
       "    <tr>\n",
       "      <th>0</th>\n",
       "      <td>0</td>\n",
       "      <td>1</td>\n",
       "      <td>2</td>\n",
       "    </tr>\n",
       "    <tr>\n",
       "      <th>1</th>\n",
       "      <td>1</td>\n",
       "      <td>2</td>\n",
       "      <td>3</td>\n",
       "    </tr>\n",
       "    <tr>\n",
       "      <th>2</th>\n",
       "      <td>2</td>\n",
       "      <td>3</td>\n",
       "      <td>4</td>\n",
       "    </tr>\n",
       "  </tbody>\n",
       "</table>\n",
       "</div>"
      ],
      "text/plain": [
       "   0  1  2\n",
       "0  0  1  2\n",
       "1  1  2  3\n",
       "2  2  3  4"
      ]
     },
     "execution_count": 43,
     "metadata": {},
     "output_type": "execute_result"
    }
   ],
   "source": [
    "import pandas as pd\n",
    "import numpy as np\n",
    "my = np.arange(M)\n",
    "addition=pd.DataFrame(np.add.outer(my, my))\n",
    "addition"
   ]
  },
  {
   "cell_type": "code",
   "execution_count": 44,
   "metadata": {
    "ExecuteTime": {
     "end_time": "2021-10-23T18:20:15.907934Z",
     "start_time": "2021-10-23T18:20:15.811582Z"
    },
    "scrolled": false
   },
   "outputs": [
    {
     "data": {
      "image/png": "[encoded data removed]",
      "text/plain": [
       "<Figure size 432x288 with 1 Axes>"
      ]
     },
     "metadata": {
      "needs_background": "light"
     },
     "output_type": "display_data"
    }
   ],
   "source": [
    "import matplotlib.pyplot as plt\n",
    "fig = plt.imshow(addition.astype(int))\n",
    "\n",
    "fig.axes.get_xaxis().set_visible(False)\n",
    "fig.axes.get_yaxis().set_visible(False)"
   ]
  },
  {
   "cell_type": "markdown",
   "metadata": {
    "lang": "de"
   },
   "source": [
    "#### ... und Multiplikation"
   ]
  },
  {
   "cell_type": "code",
   "execution_count": 45,
   "metadata": {
    "ExecuteTime": {
     "end_time": "2021-10-23T18:20:16.267033Z",
     "start_time": "2021-10-23T18:20:16.251984Z"
    },
    "scrolled": true
   },
   "outputs": [
    {
     "data": {
      "text/html": [
       "<div>\n",
       "<style scoped>\n",
       "    .dataframe tbody tr th:only-of-type {\n",
       "        vertical-align: middle;\n",
       "    }\n",
       "\n",
       "    .dataframe tbody tr th {\n",
       "        vertical-align: top;\n",
       "    }\n",
       "\n",
       "    .dataframe thead th {\n",
       "        text-align: right;\n",
       "    }\n",
       "</style>\n",
       "<table border=\"1\" class=\"dataframe\">\n",
       "  <thead>\n",
       "    <tr style=\"text-align: right;\">\n",
       "      <th></th>\n",
       "      <th>0</th>\n",
       "      <th>1</th>\n",
       "      <th>2</th>\n",
       "    </tr>\n",
       "  </thead>\n",
       "  <tbody>\n",
       "    <tr>\n",
       "      <th>0</th>\n",
       "      <td>0</td>\n",
       "      <td>0</td>\n",
       "      <td>0</td>\n",
       "    </tr>\n",
       "    <tr>\n",
       "      <th>1</th>\n",
       "      <td>0</td>\n",
       "      <td>1</td>\n",
       "      <td>2</td>\n",
       "    </tr>\n",
       "    <tr>\n",
       "      <th>2</th>\n",
       "      <td>0</td>\n",
       "      <td>2</td>\n",
       "      <td>4</td>\n",
       "    </tr>\n",
       "  </tbody>\n",
       "</table>\n",
       "</div>"
      ],
      "text/plain": [
       "   0  1  2\n",
       "0  0  0  0\n",
       "1  0  1  2\n",
       "2  0  2  4"
      ]
     },
     "execution_count": 45,
     "metadata": {},
     "output_type": "execute_result"
    }
   ],
   "source": [
    "import matplotlib.pyplot as plt\n",
    "multiplication=pd.DataFrame(np.multiply.outer(my, my))\n",
    "multiplication"
   ]
  },
  {
   "cell_type": "code",
   "execution_count": 46,
   "metadata": {
    "ExecuteTime": {
     "end_time": "2021-10-23T18:20:16.538664Z",
     "start_time": "2021-10-23T18:20:16.435437Z"
    }
   },
   "outputs": [
    {
     "data": {
      "image/png": "[encoded data removed]",
      "text/plain": [
       "<Figure size 432x288 with 1 Axes>"
      ]
     },
     "metadata": {
      "needs_background": "light"
     },
     "output_type": "display_data"
    }
   ],
   "source": [
    "fig = plt.imshow(multiplication.astype(int))\n",
    "\n",
    "fig.axes.get_xaxis().set_visible(False)\n",
    "fig.axes.get_yaxis().set_visible(False)"
   ]
  },
  {
   "cell_type": "code",
   "execution_count": null,
   "metadata": {},
   "outputs": [],
   "source": []
  },
  {
   "cell_type": "markdown",
   "metadata": {
    "lang": "de"
   },
   "source": [
    "#### Tabellen für Mod Addition ..."
   ]
  },
  {
   "cell_type": "code",
   "execution_count": 47,
   "metadata": {
    "ExecuteTime": {
     "end_time": "2021-10-23T18:20:17.160902Z",
     "start_time": "2021-10-23T18:20:17.143908Z"
    },
    "scrolled": true
   },
   "outputs": [
    {
     "data": {
      "text/html": [
       "<div>\n",
       "<style scoped>\n",
       "    .dataframe tbody tr th:only-of-type {\n",
       "        vertical-align: middle;\n",
       "    }\n",
       "\n",
       "    .dataframe tbody tr th {\n",
       "        vertical-align: top;\n",
       "    }\n",
       "\n",
       "    .dataframe thead th {\n",
       "        text-align: right;\n",
       "    }\n",
       "</style>\n",
       "<table border=\"1\" class=\"dataframe\">\n",
       "  <thead>\n",
       "    <tr style=\"text-align: right;\">\n",
       "      <th></th>\n",
       "      <th>0</th>\n",
       "      <th>1</th>\n",
       "      <th>2</th>\n",
       "    </tr>\n",
       "  </thead>\n",
       "  <tbody>\n",
       "    <tr>\n",
       "      <th>0</th>\n",
       "      <td>0</td>\n",
       "      <td>1</td>\n",
       "      <td>2</td>\n",
       "    </tr>\n",
       "    <tr>\n",
       "      <th>1</th>\n",
       "      <td>1</td>\n",
       "      <td>2</td>\n",
       "      <td>0</td>\n",
       "    </tr>\n",
       "    <tr>\n",
       "      <th>2</th>\n",
       "      <td>2</td>\n",
       "      <td>0</td>\n",
       "      <td>1</td>\n",
       "    </tr>\n",
       "  </tbody>\n",
       "</table>\n",
       "</div>"
      ],
      "text/plain": [
       "   0  1  2\n",
       "0  0  1  2\n",
       "1  1  2  0\n",
       "2  2  0  1"
      ]
     },
     "execution_count": 47,
     "metadata": {},
     "output_type": "execute_result"
    }
   ],
   "source": [
    "import numpy as np\n",
    "my = [mod(x,M) for x in np.arange(M)]\n",
    "addition=pd.DataFrame(np.add.outer(my, my))\n",
    "addition"
   ]
  },
  {
   "cell_type": "code",
   "execution_count": 48,
   "metadata": {
    "ExecuteTime": {
     "end_time": "2021-10-23T18:20:18.239344Z",
     "start_time": "2021-10-23T18:20:18.148221Z"
    },
    "scrolled": true
   },
   "outputs": [
    {
     "data": {
      "image/png": "[encoded data removed]",
      "text/plain": [
       "<Figure size 432x288 with 1 Axes>"
      ]
     },
     "metadata": {
      "needs_background": "light"
     },
     "output_type": "display_data"
    }
   ],
   "source": [
    "import matplotlib.pyplot as plt\n",
    "fig = plt.imshow(addition.astype(int))\n",
    "\n",
    "fig.axes.get_xaxis().set_visible(False)\n",
    "fig.axes.get_yaxis().set_visible(False)"
   ]
  },
  {
   "cell_type": "markdown",
   "metadata": {
    "lang": "de"
   },
   "source": [
    "#### Tabellen für die Mod3-Multiplikation ..."
   ]
  },
  {
   "cell_type": "code",
   "execution_count": 49,
   "metadata": {
    "ExecuteTime": {
     "end_time": "2021-10-23T18:20:19.710753Z",
     "start_time": "2021-10-23T18:20:19.691591Z"
    },
    "scrolled": true
   },
   "outputs": [
    {
     "data": {
      "text/html": [
       "<div>\n",
       "<style scoped>\n",
       "    .dataframe tbody tr th:only-of-type {\n",
       "        vertical-align: middle;\n",
       "    }\n",
       "\n",
       "    .dataframe tbody tr th {\n",
       "        vertical-align: top;\n",
       "    }\n",
       "\n",
       "    .dataframe thead th {\n",
       "        text-align: right;\n",
       "    }\n",
       "</style>\n",
       "<table border=\"1\" class=\"dataframe\">\n",
       "  <thead>\n",
       "    <tr style=\"text-align: right;\">\n",
       "      <th></th>\n",
       "      <th>0</th>\n",
       "      <th>1</th>\n",
       "      <th>2</th>\n",
       "    </tr>\n",
       "  </thead>\n",
       "  <tbody>\n",
       "    <tr>\n",
       "      <th>0</th>\n",
       "      <td>0</td>\n",
       "      <td>0</td>\n",
       "      <td>0</td>\n",
       "    </tr>\n",
       "    <tr>\n",
       "      <th>1</th>\n",
       "      <td>0</td>\n",
       "      <td>1</td>\n",
       "      <td>2</td>\n",
       "    </tr>\n",
       "    <tr>\n",
       "      <th>2</th>\n",
       "      <td>0</td>\n",
       "      <td>2</td>\n",
       "      <td>1</td>\n",
       "    </tr>\n",
       "  </tbody>\n",
       "</table>\n",
       "</div>"
      ],
      "text/plain": [
       "   0  1  2\n",
       "0  0  0  0\n",
       "1  0  1  2\n",
       "2  0  2  1"
      ]
     },
     "execution_count": 49,
     "metadata": {},
     "output_type": "execute_result"
    }
   ],
   "source": [
    "import numpy as np\n",
    "my = [mod(x,M) for x in np.arange(M)]\n",
    "addition=pd.DataFrame(np.multiply.outer(my, my))\n",
    "addition"
   ]
  },
  {
   "cell_type": "code",
   "execution_count": 50,
   "metadata": {
    "ExecuteTime": {
     "end_time": "2021-10-23T18:20:20.465739Z",
     "start_time": "2021-10-23T18:20:20.371718Z"
    },
    "scrolled": true
   },
   "outputs": [
    {
     "data": {
      "image/png": "[encoded data removed]",
      "text/plain": [
       "<Figure size 432x288 with 1 Axes>"
      ]
     },
     "metadata": {
      "needs_background": "light"
     },
     "output_type": "display_data"
    }
   ],
   "source": [
    "import matplotlib.pyplot as plt\n",
    "fig = plt.imshow(addition.astype(int))\n",
    "fig.axes.get_xaxis().set_visible(False)\n",
    "fig.axes.get_yaxis().set_visible(False)"
   ]
  },
  {
   "cell_type": "code",
   "execution_count": null,
   "metadata": {},
   "outputs": [],
   "source": []
  },
  {
   "cell_type": "markdown",
   "metadata": {
    "lang": "de",
    "solution2": "hidden",
    "solution2_first": true
   },
   "source": [
    "## <font color=\"orange\"> Übung : Erstellen Sie die Tabellen für Modulo 5 (und die entsprechenden für die normale Addition und Multiplikation) </font> 15min"
   ]
  },
  {
   "cell_type": "code",
   "execution_count": 51,
   "metadata": {
    "ExecuteTime": {
     "end_time": "2021-10-23T18:20:23.665526Z",
     "start_time": "2021-10-23T18:20:23.660500Z"
    },
    "solution2": "hidden"
   },
   "outputs": [],
   "source": [
    "M = 5\n"
   ]
  },
  {
   "cell_type": "markdown",
   "metadata": {
    "lang": "de",
    "solution2": "hidden"
   },
   "source": [
    "#### Tabellen für normale Addition ..."
   ]
  },
  {
   "cell_type": "code",
   "execution_count": 52,
   "metadata": {
    "ExecuteTime": {
     "end_time": "2021-10-23T18:20:25.121628Z",
     "start_time": "2021-10-23T18:20:25.103949Z"
    },
    "scrolled": true,
    "solution2": "hidden"
   },
   "outputs": [
    {
     "data": {
      "text/html": [
       "<div>\n",
       "<style scoped>\n",
       "    .dataframe tbody tr th:only-of-type {\n",
       "        vertical-align: middle;\n",
       "    }\n",
       "\n",
       "    .dataframe tbody tr th {\n",
       "        vertical-align: top;\n",
       "    }\n",
       "\n",
       "    .dataframe thead th {\n",
       "        text-align: right;\n",
       "    }\n",
       "</style>\n",
       "<table border=\"1\" class=\"dataframe\">\n",
       "  <thead>\n",
       "    <tr style=\"text-align: right;\">\n",
       "      <th></th>\n",
       "      <th>0</th>\n",
       "      <th>1</th>\n",
       "      <th>2</th>\n",
       "      <th>3</th>\n",
       "      <th>4</th>\n",
       "    </tr>\n",
       "  </thead>\n",
       "  <tbody>\n",
       "    <tr>\n",
       "      <th>0</th>\n",
       "      <td>0</td>\n",
       "      <td>1</td>\n",
       "      <td>2</td>\n",
       "      <td>3</td>\n",
       "      <td>4</td>\n",
       "    </tr>\n",
       "    <tr>\n",
       "      <th>1</th>\n",
       "      <td>1</td>\n",
       "      <td>2</td>\n",
       "      <td>3</td>\n",
       "      <td>4</td>\n",
       "      <td>5</td>\n",
       "    </tr>\n",
       "    <tr>\n",
       "      <th>2</th>\n",
       "      <td>2</td>\n",
       "      <td>3</td>\n",
       "      <td>4</td>\n",
       "      <td>5</td>\n",
       "      <td>6</td>\n",
       "    </tr>\n",
       "    <tr>\n",
       "      <th>3</th>\n",
       "      <td>3</td>\n",
       "      <td>4</td>\n",
       "      <td>5</td>\n",
       "      <td>6</td>\n",
       "      <td>7</td>\n",
       "    </tr>\n",
       "    <tr>\n",
       "      <th>4</th>\n",
       "      <td>4</td>\n",
       "      <td>5</td>\n",
       "      <td>6</td>\n",
       "      <td>7</td>\n",
       "      <td>8</td>\n",
       "    </tr>\n",
       "  </tbody>\n",
       "</table>\n",
       "</div>"
      ],
      "text/plain": [
       "   0  1  2  3  4\n",
       "0  0  1  2  3  4\n",
       "1  1  2  3  4  5\n",
       "2  2  3  4  5  6\n",
       "3  3  4  5  6  7\n",
       "4  4  5  6  7  8"
      ]
     },
     "execution_count": 52,
     "metadata": {},
     "output_type": "execute_result"
    }
   ],
   "source": [
    "import pandas as pd\n",
    "import numpy as np\n",
    "my = np.arange(M)\n",
    "addition=pd.DataFrame(np.add.outer(my, my))\n",
    "addition"
   ]
  },
  {
   "cell_type": "code",
   "execution_count": 53,
   "metadata": {
    "ExecuteTime": {
     "end_time": "2021-10-23T18:20:26.948156Z",
     "start_time": "2021-10-23T18:20:26.848047Z"
    },
    "scrolled": false,
    "solution2": "hidden"
   },
   "outputs": [
    {
     "data": {
      "image/png": "[encoded data removed]",
      "text/plain": [
       "<Figure size 432x288 with 1 Axes>"
      ]
     },
     "metadata": {
      "needs_background": "light"
     },
     "output_type": "display_data"
    }
   ],
   "source": [
    "import matplotlib.pyplot as plt\n",
    "fig = plt.imshow(addition.astype(int))\n",
    "\n",
    "fig.axes.get_xaxis().set_visible(False)\n",
    "fig.axes.get_yaxis().set_visible(False)"
   ]
  },
  {
   "cell_type": "markdown",
   "metadata": {
    "solution2": "hidden"
   },
   "source": [
    "#### ... and Multiplication"
   ]
  },
  {
   "cell_type": "code",
   "execution_count": 54,
   "metadata": {
    "ExecuteTime": {
     "end_time": "2021-10-23T18:20:29.759775Z",
     "start_time": "2021-10-23T18:20:29.742936Z"
    },
    "scrolled": true,
    "solution2": "hidden"
   },
   "outputs": [
    {
     "data": {
      "text/html": [
       "<div>\n",
       "<style scoped>\n",
       "    .dataframe tbody tr th:only-of-type {\n",
       "        vertical-align: middle;\n",
       "    }\n",
       "\n",
       "    .dataframe tbody tr th {\n",
       "        vertical-align: top;\n",
       "    }\n",
       "\n",
       "    .dataframe thead th {\n",
       "        text-align: right;\n",
       "    }\n",
       "</style>\n",
       "<table border=\"1\" class=\"dataframe\">\n",
       "  <thead>\n",
       "    <tr style=\"text-align: right;\">\n",
       "      <th></th>\n",
       "      <th>0</th>\n",
       "      <th>1</th>\n",
       "      <th>2</th>\n",
       "      <th>3</th>\n",
       "      <th>4</th>\n",
       "    </tr>\n",
       "  </thead>\n",
       "  <tbody>\n",
       "    <tr>\n",
       "      <th>0</th>\n",
       "      <td>0</td>\n",
       "      <td>0</td>\n",
       "      <td>0</td>\n",
       "      <td>0</td>\n",
       "      <td>0</td>\n",
       "    </tr>\n",
       "    <tr>\n",
       "      <th>1</th>\n",
       "      <td>0</td>\n",
       "      <td>1</td>\n",
       "      <td>2</td>\n",
       "      <td>3</td>\n",
       "      <td>4</td>\n",
       "    </tr>\n",
       "    <tr>\n",
       "      <th>2</th>\n",
       "      <td>0</td>\n",
       "      <td>2</td>\n",
       "      <td>4</td>\n",
       "      <td>6</td>\n",
       "      <td>8</td>\n",
       "    </tr>\n",
       "    <tr>\n",
       "      <th>3</th>\n",
       "      <td>0</td>\n",
       "      <td>3</td>\n",
       "      <td>6</td>\n",
       "      <td>9</td>\n",
       "      <td>12</td>\n",
       "    </tr>\n",
       "    <tr>\n",
       "      <th>4</th>\n",
       "      <td>0</td>\n",
       "      <td>4</td>\n",
       "      <td>8</td>\n",
       "      <td>12</td>\n",
       "      <td>16</td>\n",
       "    </tr>\n",
       "  </tbody>\n",
       "</table>\n",
       "</div>"
      ],
      "text/plain": [
       "   0  1  2   3   4\n",
       "0  0  0  0   0   0\n",
       "1  0  1  2   3   4\n",
       "2  0  2  4   6   8\n",
       "3  0  3  6   9  12\n",
       "4  0  4  8  12  16"
      ]
     },
     "execution_count": 54,
     "metadata": {},
     "output_type": "execute_result"
    }
   ],
   "source": [
    "import matplotlib.pyplot as plt\n",
    "multiplication=pd.DataFrame(np.multiply.outer(my, my))\n",
    "multiplication"
   ]
  },
  {
   "cell_type": "code",
   "execution_count": 55,
   "metadata": {
    "ExecuteTime": {
     "end_time": "2021-10-23T18:20:31.151720Z",
     "start_time": "2021-10-23T18:20:31.051835Z"
    },
    "solution2": "hidden"
   },
   "outputs": [
    {
     "data": {
      "image/png": "[encoded data removed]",
      "text/plain": [
       "<Figure size 432x288 with 1 Axes>"
      ]
     },
     "metadata": {
      "needs_background": "light"
     },
     "output_type": "display_data"
    }
   ],
   "source": [
    "fig = plt.imshow(multiplication.astype(int))\n",
    "\n",
    "fig.axes.get_xaxis().set_visible(False)\n",
    "fig.axes.get_yaxis().set_visible(False)"
   ]
  },
  {
   "cell_type": "code",
   "execution_count": null,
   "metadata": {
    "solution2": "hidden"
   },
   "outputs": [],
   "source": []
  },
  {
   "cell_type": "markdown",
   "metadata": {
    "lang": "de",
    "solution2": "hidden"
   },
   "source": [
    "#### Tabellen für mod5 Addition ..."
   ]
  },
  {
   "cell_type": "code",
   "execution_count": 56,
   "metadata": {
    "ExecuteTime": {
     "end_time": "2021-10-23T18:20:33.208923Z",
     "start_time": "2021-10-23T18:20:33.185254Z"
    },
    "scrolled": true,
    "solution2": "hidden"
   },
   "outputs": [
    {
     "data": {
      "text/html": [
       "<div>\n",
       "<style scoped>\n",
       "    .dataframe tbody tr th:only-of-type {\n",
       "        vertical-align: middle;\n",
       "    }\n",
       "\n",
       "    .dataframe tbody tr th {\n",
       "        vertical-align: top;\n",
       "    }\n",
       "\n",
       "    .dataframe thead th {\n",
       "        text-align: right;\n",
       "    }\n",
       "</style>\n",
       "<table border=\"1\" class=\"dataframe\">\n",
       "  <thead>\n",
       "    <tr style=\"text-align: right;\">\n",
       "      <th></th>\n",
       "      <th>0</th>\n",
       "      <th>1</th>\n",
       "      <th>2</th>\n",
       "      <th>3</th>\n",
       "      <th>4</th>\n",
       "    </tr>\n",
       "  </thead>\n",
       "  <tbody>\n",
       "    <tr>\n",
       "      <th>0</th>\n",
       "      <td>0</td>\n",
       "      <td>1</td>\n",
       "      <td>2</td>\n",
       "      <td>3</td>\n",
       "      <td>4</td>\n",
       "    </tr>\n",
       "    <tr>\n",
       "      <th>1</th>\n",
       "      <td>1</td>\n",
       "      <td>2</td>\n",
       "      <td>3</td>\n",
       "      <td>4</td>\n",
       "      <td>0</td>\n",
       "    </tr>\n",
       "    <tr>\n",
       "      <th>2</th>\n",
       "      <td>2</td>\n",
       "      <td>3</td>\n",
       "      <td>4</td>\n",
       "      <td>0</td>\n",
       "      <td>1</td>\n",
       "    </tr>\n",
       "    <tr>\n",
       "      <th>3</th>\n",
       "      <td>3</td>\n",
       "      <td>4</td>\n",
       "      <td>0</td>\n",
       "      <td>1</td>\n",
       "      <td>2</td>\n",
       "    </tr>\n",
       "    <tr>\n",
       "      <th>4</th>\n",
       "      <td>4</td>\n",
       "      <td>0</td>\n",
       "      <td>1</td>\n",
       "      <td>2</td>\n",
       "      <td>3</td>\n",
       "    </tr>\n",
       "  </tbody>\n",
       "</table>\n",
       "</div>"
      ],
      "text/plain": [
       "   0  1  2  3  4\n",
       "0  0  1  2  3  4\n",
       "1  1  2  3  4  0\n",
       "2  2  3  4  0  1\n",
       "3  3  4  0  1  2\n",
       "4  4  0  1  2  3"
      ]
     },
     "execution_count": 56,
     "metadata": {},
     "output_type": "execute_result"
    }
   ],
   "source": [
    "import numpy as np\n",
    "my = [mod(x,M) for x in np.arange(M)]\n",
    "addition=pd.DataFrame(np.add.outer(my, my))\n",
    "addition"
   ]
  },
  {
   "cell_type": "code",
   "execution_count": 57,
   "metadata": {
    "ExecuteTime": {
     "end_time": "2021-10-23T18:20:33.894141Z",
     "start_time": "2021-10-23T18:20:33.792680Z"
    },
    "scrolled": true,
    "solution2": "hidden"
   },
   "outputs": [
    {
     "data": {
      "image/png": "[encoded data removed]",
      "text/plain": [
       "<Figure size 432x288 with 1 Axes>"
      ]
     },
     "metadata": {
      "needs_background": "light"
     },
     "output_type": "display_data"
    }
   ],
   "source": [
    "import matplotlib.pyplot as plt\n",
    "fig = plt.imshow(addition.astype(int))\n",
    "\n",
    "fig.axes.get_xaxis().set_visible(False)\n",
    "fig.axes.get_yaxis().set_visible(False)"
   ]
  },
  {
   "cell_type": "markdown",
   "metadata": {
    "lang": "de",
    "solution2": "hidden"
   },
   "source": [
    "#### Tabellen für die Mod5-Multiplikation ..."
   ]
  },
  {
   "cell_type": "code",
   "execution_count": 58,
   "metadata": {
    "ExecuteTime": {
     "end_time": "2021-10-23T18:20:34.200568Z",
     "start_time": "2021-10-23T18:20:34.178842Z"
    },
    "scrolled": true,
    "solution2": "hidden"
   },
   "outputs": [
    {
     "data": {
      "text/html": [
       "<div>\n",
       "<style scoped>\n",
       "    .dataframe tbody tr th:only-of-type {\n",
       "        vertical-align: middle;\n",
       "    }\n",
       "\n",
       "    .dataframe tbody tr th {\n",
       "        vertical-align: top;\n",
       "    }\n",
       "\n",
       "    .dataframe thead th {\n",
       "        text-align: right;\n",
       "    }\n",
       "</style>\n",
       "<table border=\"1\" class=\"dataframe\">\n",
       "  <thead>\n",
       "    <tr style=\"text-align: right;\">\n",
       "      <th></th>\n",
       "      <th>0</th>\n",
       "      <th>1</th>\n",
       "      <th>2</th>\n",
       "      <th>3</th>\n",
       "      <th>4</th>\n",
       "    </tr>\n",
       "  </thead>\n",
       "  <tbody>\n",
       "    <tr>\n",
       "      <th>0</th>\n",
       "      <td>0</td>\n",
       "      <td>0</td>\n",
       "      <td>0</td>\n",
       "      <td>0</td>\n",
       "      <td>0</td>\n",
       "    </tr>\n",
       "    <tr>\n",
       "      <th>1</th>\n",
       "      <td>0</td>\n",
       "      <td>1</td>\n",
       "      <td>2</td>\n",
       "      <td>3</td>\n",
       "      <td>4</td>\n",
       "    </tr>\n",
       "    <tr>\n",
       "      <th>2</th>\n",
       "      <td>0</td>\n",
       "      <td>2</td>\n",
       "      <td>4</td>\n",
       "      <td>1</td>\n",
       "      <td>3</td>\n",
       "    </tr>\n",
       "    <tr>\n",
       "      <th>3</th>\n",
       "      <td>0</td>\n",
       "      <td>3</td>\n",
       "      <td>1</td>\n",
       "      <td>4</td>\n",
       "      <td>2</td>\n",
       "    </tr>\n",
       "    <tr>\n",
       "      <th>4</th>\n",
       "      <td>0</td>\n",
       "      <td>4</td>\n",
       "      <td>3</td>\n",
       "      <td>2</td>\n",
       "      <td>1</td>\n",
       "    </tr>\n",
       "  </tbody>\n",
       "</table>\n",
       "</div>"
      ],
      "text/plain": [
       "   0  1  2  3  4\n",
       "0  0  0  0  0  0\n",
       "1  0  1  2  3  4\n",
       "2  0  2  4  1  3\n",
       "3  0  3  1  4  2\n",
       "4  0  4  3  2  1"
      ]
     },
     "execution_count": 58,
     "metadata": {},
     "output_type": "execute_result"
    }
   ],
   "source": [
    "import numpy as np\n",
    "my = [mod(x,M) for x in np.arange(M)]\n",
    "addition=pd.DataFrame(np.multiply.outer(my, my))\n",
    "addition"
   ]
  },
  {
   "cell_type": "code",
   "execution_count": 59,
   "metadata": {
    "ExecuteTime": {
     "end_time": "2021-10-23T18:20:34.505407Z",
     "start_time": "2021-10-23T18:20:34.406810Z"
    },
    "scrolled": false,
    "solution2": "hidden"
   },
   "outputs": [
    {
     "data": {
      "image/png": "[encoded data removed]",
      "text/plain": [
       "<Figure size 432x288 with 1 Axes>"
      ]
     },
     "metadata": {
      "needs_background": "light"
     },
     "output_type": "display_data"
    }
   ],
   "source": [
    "import matplotlib.pyplot as plt\n",
    "fig = plt.imshow(addition.astype(int))\n",
    "\n",
    "fig.axes.get_xaxis().set_visible(False)\n",
    "fig.axes.get_yaxis().set_visible(False)\n"
   ]
  },
  {
   "cell_type": "markdown",
   "metadata": {
    "lang": "de"
   },
   "source": [
    "## Beweis durch vollständige Induktion\n",
    "<img src=\"https://upload.wikimedia.org/wikipedia/commons/9/92/Dominoeffect.png\" alt=\"Drawing\" style=\"width: 200px;float:left\"/>\n",
    "src = https://upload.wikimedia.org/wikipedia/commons/9/92/Dominoeffect.png"
   ]
  },
  {
   "cell_type": "markdown",
   "metadata": {},
   "source": [
    "\n",
    "\n",
    "Beispiele für vollständige Induktion:\n",
    "- Gaussformel \n",
    "    $\\sum_{i=0}^{i=N}i = \\frac{N\\cdot(N+1)}{2}$\n",
    "\n",
    "    Eine ausführliche Durchführung des Beweises findest Du hier:\n",
    "    https://de.wikibooks.org/wiki/Mathe_f%C3%BCr_Nicht-Freaks:_Vollst%C3%A4ndige_Induktion#Eine_Beispielaufgabe\n",
    "\n",
    "- Weitere Beispiele findest du hier:\n",
    "  https://de.wikibooks.org/wiki/Mathe_f%C3%BCr_Nicht-Freaks:_Vollst%C3%A4ndige_Induktion:_Beispiele\n",
    "\n",
    "Beispiele für einen mit vollständiger Induktion verschleierten <font color=\"red\">Fehlschluss</font>:\n",
    "- Falscher Beweis, dass in einer endlichen Menge von Zahlen, alle Zahlen gleich sind.\n",
    "  Eine Erläuterung findest Du hier: \n",
    "  https://matheplanet.com/default3.html?call=viewtopic.php?topic=9092&ref=https%3A%2F%2Fwww.google.com%2F"
   ]
  },
  {
   "cell_type": "markdown",
   "metadata": {},
   "source": [
    "## <font color='red'>Ende Vorlesung 2</font>"
   ]
  },
  {
   "cell_type": "markdown",
   "metadata": {},
   "source": [
    "Vorlesungen\n",
    "\n",
    "## Aquivalenzrelationen\n",
    "Skript Seite 26\n",
    "\n",
    "## Aquivalenzrelationen : Spezielle Anwendung : Auf Resklassenring Modulo\n",
    "Skript Seite 26\n",
    "\n"
   ]
  },
  {
   "cell_type": "markdown",
   "metadata": {
    "heading_collapsed": true
   },
   "source": [
    "## <font color='red'>Ende Vorlesung 3</font>"
   ]
  },
  {
   "cell_type": "markdown",
   "metadata": {
    "lang": "de",
    "solution2": "shown",
    "solution2_first": true
   },
   "source": [
    "# Satz 46\n",
    "$\n",
    "\\begin{equation}\n",
    "[\\widetilde a] \\cap [\\widetilde b] \\neq \\emptyset \\iff \\\\\n",
    "[\\widetilde a] = [\\widetilde b] \\\\\n",
    "\\end{equation}\n",
    "$\n"
   ]
  },
  {
   "cell_type": "code",
   "execution_count": null,
   "metadata": {
    "solution2": "shown"
   },
   "outputs": [],
   "source": []
  },
  {
   "cell_type": "markdown",
   "metadata": {
    "solution2": "shown"
   },
   "source": [
    "\n",
    "Gehen wir von links nach rechts:\n",
    "## 46.1.\n",
    "$\n",
    "\\begin{equation}\n",
    "[\\widetilde a] \\cap [\\widetilde b] \\neq \\emptyset \\iff \\\\\n",
    "\\exists k\\in a \\land k\\in b \\\\\n",
    "\\\\\n",
    "\\end{equation}\n",
    "$\n",
    "\n",
    "Nun, wenn es ein anderes Element $l \\in a$ gibt, dann\n",
    "\n",
    "$\n",
    "\\begin{equation}\n",
    "k\\in a \\land l\\in a \\iff \\\\\n",
    "k\\sim l  \\iff \\\\\n",
    "k\\in b \\land l\\in b \\\\\n",
    "\\end{equation}\n",
    "$\n",
    "\n",
    "Gehen wir von rechts nach links:\n",
    "## 46.2.\n",
    "Ist trivial, weil $[\\widetilde a]$ per Definition nicht leer ist. Die Schnittmenge einer Menge mit sich selbst ist die Menge. Daher ist das Ergebnis nicht leer $\\blacksquare$"
   ]
  },
  {
   "cell_type": "markdown",
   "metadata": {
    "lang": "de"
   },
   "source": [
    "# Funktionen (auch : Abbildungen genannt)\n",
    "https://de.wikibooks.org/wiki/Mathe_f%C3%BCr_Nicht-Freaks:_Abbildung,_Funktion\n",
    "\n",
    "## Definitionen\n",
    "Gegeben sei eine Funktion, die jedem Element $a\\in A$ genau ein $b\\in B$ zuordnet $f: A\\rightarrow B: a\\rightarrow b = f(a)$\n",
    "- Bild : $\\{b\\in B; \\exists a\\in A: f(a)=b\\} $\n",
    "- Urbild einer Untermenge $C\\subset B$: $\\{a\\in A; f(a)=c\\in C \\}$\n",
    "- Graph: $G_f :=\\{(a,f(a)); a\\in A \\} $\n",
    "- Restriktion auf eine Untermenge $A'\\subset A$: $f : A' \\rightarrow B: a\\rightarrow b=f(a) $"
   ]
  },
  {
   "cell_type": "markdown",
   "metadata": {
    "lang": "de",
    "solution2": "hidden",
    "solution2_first": true
   },
   "source": [
    "## <font color=\"orange\"> Übung Urbild </font>\n",
    "Sei $f: \\mathbb{R^2}\\rightarrow \\mathbb{R} : (x,y) \\mapsto x^2+y^2$\n",
    "\n",
    "Skizzieren Sie das Urbild der einelementigen Menge {1} unter f."
   ]
  },
  {
   "cell_type": "code",
   "execution_count": 59,
   "metadata": {
    "ExecuteTime": {
     "end_time": "2021-05-20T14:25:15.478264Z",
     "start_time": "2021-05-20T14:25:15.472387Z"
    },
    "solution2": "hidden"
   },
   "outputs": [
    {
     "data": {
      "text/plain": [
       "(x, y)"
      ]
     },
     "execution_count": 59,
     "metadata": {},
     "output_type": "execute_result"
    }
   ],
   "source": [
    "var (\"x y\")"
   ]
  },
  {
   "cell_type": "code",
   "execution_count": 62,
   "metadata": {
    "ExecuteTime": {
     "end_time": "2021-10-23T18:20:56.327916Z",
     "start_time": "2021-10-23T18:20:55.826345Z"
    },
    "solution2": "hidden"
   },
   "outputs": [
    {
     "data": {
      "image/png": "[encoded data removed]",
      "text/plain": [
       "Graphics object consisting of 1 graphics primitive"
      ]
     },
     "execution_count": 62,
     "metadata": {},
     "output_type": "execute_result"
    }
   ],
   "source": [
    "f(x,y) = x^2 + y^2 == 1\n",
    "\n",
    "urbild = implicit_plot(f, \n",
    "              xrange=(-10,3), \n",
    "              yrange=(-3,3),\n",
    "              linewidth=1,\n",
    "              fill=False,\n",
    "              title='Urbild : Lösung der Gleichung x^2 + y^2 == 1'\n",
    "              )\n",
    "urbild.axes_labels(['$x$','$y$'])\n",
    "plot(urbild)\n",
    "\n",
    "\n",
    "# plt.title('Losung der Gleichung x^2 + y^2 == 1^1')"
   ]
  },
  {
   "cell_type": "code",
   "execution_count": null,
   "metadata": {},
   "outputs": [],
   "source": []
  },
  {
   "cell_type": "markdown",
   "metadata": {},
   "source": [
    "# Einschub : Addendum Urbild\n",
    " "
   ]
  },
  {
   "cell_type": "markdown",
   "metadata": {
    "lang": "de"
   },
   "source": [
    "## Beispiel 30: Identitätsfunktion"
   ]
  },
  {
   "cell_type": "code",
   "execution_count": 63,
   "metadata": {
    "ExecuteTime": {
     "end_time": "2021-10-23T18:20:57.121619Z",
     "start_time": "2021-10-23T18:20:56.712261Z"
    }
   },
   "outputs": [
    {
     "data": {
      "image/png": "[encoded data removed]",
      "text/plain": [
       "Graphics object consisting of 1 graphics primitive"
      ]
     },
     "execution_count": 63,
     "metadata": {},
     "output_type": "execute_result"
    }
   ],
   "source": [
    "f(x) = x\n",
    "id = plot(\n",
    "            f(x), \n",
    "            (x,-10, 10), \n",
    "            title='Identity Function', \n",
    "            axes_labels=['$x$','$y$'])\n",
    "id"
   ]
  },
  {
   "cell_type": "markdown",
   "metadata": {
    "lang": "de"
   },
   "source": [
    "## Beispiel: Konstante Funktion"
   ]
  },
  {
   "cell_type": "code",
   "execution_count": 64,
   "metadata": {
    "ExecuteTime": {
     "end_time": "2021-10-23T18:20:57.481412Z",
     "start_time": "2021-10-23T18:20:57.129151Z"
    }
   },
   "outputs": [
    {
     "data": {
      "image/png": "[encoded data removed]",
      "text/plain": [
       "Graphics object consisting of 1 graphics primitive"
      ]
     },
     "execution_count": 64,
     "metadata": {},
     "output_type": "execute_result"
    }
   ],
   "source": [
    "f(x) = 1\n",
    "id = plot(\n",
    "            f(x), \n",
    "            (x,-10, 10), \n",
    "            title='Konstante Funktion\\n', \n",
    "            axes_labels=['$x$','$y$'])\n",
    "id"
   ]
  },
  {
   "cell_type": "markdown",
   "metadata": {
    "lang": "de"
   },
   "source": [
    "## Beispiel: Absolutwertfunktion"
   ]
  },
  {
   "cell_type": "code",
   "execution_count": 65,
   "metadata": {
    "ExecuteTime": {
     "end_time": "2021-10-23T18:20:57.866641Z",
     "start_time": "2021-10-23T18:20:57.487960Z"
    }
   },
   "outputs": [
    {
     "data": {
      "image/png": "[encoded data removed]",
      "text/plain": [
       "Graphics object consisting of 1 graphics primitive"
      ]
     },
     "execution_count": 65,
     "metadata": {},
     "output_type": "execute_result"
    }
   ],
   "source": [
    "f(x) = abs(x)\n",
    "plot(f, \n",
    "     (x, -10, 10), \n",
    "     title='Absoluter Betrag function\\n',\n",
    "     axes_labels=['$x$', '$y$']\n",
    "    )"
   ]
  },
  {
   "cell_type": "markdown",
   "metadata": {
    "lang": "de"
   },
   "source": [
    "## Beispiel: Projektion\n",
    "Die x- und y-Achse sind Projektionen der zweidimensionalen xy-Ebene. Die Gitterlinien dienen als Visualisierung der Projektion."
   ]
  },
  {
   "cell_type": "code",
   "execution_count": 66,
   "metadata": {
    "ExecuteTime": {
     "end_time": "2021-10-23T18:20:58.090837Z",
     "start_time": "2021-10-23T18:20:57.872922Z"
    },
    "scrolled": true
   },
   "outputs": [
    {
     "data": {
      "image/png": "[encoded data removed]",
      "text/plain": [
       "<Figure size 432x288 with 1 Axes>"
      ]
     },
     "metadata": {
      "needs_background": "light"
     },
     "output_type": "display_data"
    }
   ],
   "source": [
    "import pylab as plt\n",
    "plt.grid(True)\n",
    "plt.title('Projektion')\n",
    "plt.xlabel('X')\n",
    "_ = plt.ylabel('Y')"
   ]
  },
  {
   "cell_type": "markdown",
   "metadata": {
    "lang": "de"
   },
   "source": [
    "## Signumfunktion / Vorzeichenfunktion"
   ]
  },
  {
   "cell_type": "code",
   "execution_count": 67,
   "metadata": {
    "ExecuteTime": {
     "end_time": "2021-10-23T18:20:59.515599Z",
     "start_time": "2021-10-23T18:20:58.463372Z"
    },
    "scrolled": false
   },
   "outputs": [
    {
     "data": {
      "image/png": "[encoded data removed]",
      "text/plain": [
       "Graphics object consisting of 1 graphics primitive"
      ]
     },
     "execution_count": 67,
     "metadata": {},
     "output_type": "execute_result"
    }
   ],
   "source": [
    "f(x) = sign(x)\n",
    "plot(f, \n",
    "     (x, -0.1, .1), \n",
    "     title='Signum funktion\\n',\n",
    "     axes_labels=['$x$', '$y$']\n",
    "    )"
   ]
  },
  {
   "cell_type": "markdown",
   "metadata": {
    "lang": "de"
   },
   "source": [
    "## Abrundungs- und Aufrundungsfunction (Gaußklammer)"
   ]
  },
  {
   "cell_type": "code",
   "execution_count": 68,
   "metadata": {
    "ExecuteTime": {
     "end_time": "2021-10-23T18:20:59.949626Z",
     "start_time": "2021-10-23T18:20:59.520746Z"
    }
   },
   "outputs": [
    {
     "data": {
      "image/png": "[encoded data removed]",
      "text/plain": [
       "Graphics object consisting of 1 graphics primitive"
      ]
     },
     "execution_count": 68,
     "metadata": {},
     "output_type": "execute_result"
    }
   ],
   "source": [
    "f(x) = floor(x)\n",
    "plot(f, \n",
    "     (x, -3, 3), \n",
    "     title='Abrundungs-Funktion\\n',\n",
    "     axes_labels=['$x$', '$y$']\n",
    "    )"
   ]
  },
  {
   "cell_type": "code",
   "execution_count": 69,
   "metadata": {
    "ExecuteTime": {
     "end_time": "2021-10-23T18:21:00.383121Z",
     "start_time": "2021-10-23T18:20:59.955872Z"
    }
   },
   "outputs": [
    {
     "data": {
      "image/png": "[encoded data removed]",
      "text/plain": [
       "Graphics object consisting of 1 graphics primitive"
      ]
     },
     "execution_count": 69,
     "metadata": {},
     "output_type": "execute_result"
    }
   ],
   "source": [
    "f(x) = ceil(x)\n",
    "plot(f, \n",
    "     (x, -3, 3), \n",
    "     title='Aufrundungs-Function\\n',\n",
    "     axes_labels=['$x$', '$y$']\n",
    "    )"
   ]
  },
  {
   "cell_type": "markdown",
   "metadata": {
    "lang": "de",
    "solution2": "hidden",
    "solution2_first": true
   },
   "source": [
    "## Übung 38\n",
    "a) Zeigen Sie, dass für $x\\in \\mathbb{R}$ gilt:\n",
    "\n",
    "$\\forall x \\in \\mathbb{R}: x = [x] \\iff x \\in \\mathbb{Z} $  \n",
    "\n",
    "b) Gilt für alle $x\\in \\mathbb{R}$, dass\n",
    "\n",
    "-x = [-x]\n",
    "\n",
    "?"
   ]
  },
  {
   "cell_type": "markdown",
   "metadata": {
    "lang": "de",
    "solution2": "hidden"
   },
   "source": [
    "\n",
    "Definieren Sie $[.] : \\mathbb{R} \\rightarrow \\mathbb{Z}: x\\rightarrow [x]:= max\\{k\\in\\mathbb{Z}|k<=x\\}$\n",
    "\n",
    "- $ x = [x] $ daher per definitionem $\\rightarrow x\\in\\mathbb{Z}$\n",
    "\n",
    "Auf der anderen Seite, wenn $x\\in\\mathbb{Z}$, dann ist x selbst das größte Element von $\\mathbb{Z}$, das nicht größer als x ist.\n",
    "\n",
    "- \n",
    "Die Antwort ist nein seit $-[-x] = ceiling(x)$\n",
    "Das ist nur gleich [x] oder Boden, wenn $x\\in\\mathbb{Z}$\n",
    "\n",
    "$\\blacksquare$"
   ]
  },
  {
   "cell_type": "code",
   "execution_count": 76,
   "metadata": {
    "ExecuteTime": {
     "end_time": "2021-10-23T18:21:02.612000Z",
     "start_time": "2021-10-23T18:21:02.247432Z"
    },
    "scrolled": true,
    "solution2": "hidden"
   },
   "outputs": [
    {
     "data": {
      "image/png": "[encoded data removed]",
      "text/plain": [
       "Graphics object consisting of 2 graphics primitives"
      ]
     },
     "execution_count": 76,
     "metadata": {},
     "output_type": "execute_result"
    }
   ],
   "source": [
    "h = Graphics()\n",
    "\n",
    "h += plot(floor(x), \n",
    "     (x, -10, 10), \n",
    "     title='Sign function\\n',\n",
    "     color='green',\n",
    "     axes_labels=['$x$', '$y$']\n",
    "    )\n",
    "h += plot(-floor(-x), \n",
    "     (x, -10, 10), \n",
    "     title='Sign function\\n',\n",
    "     color='blue',\n",
    "     axes_labels=['$x$', '$y$']\n",
    "    )\n",
    "h"
   ]
  },
  {
   "cell_type": "markdown",
   "metadata": {
    "lang": "de",
    "solution2": "hidden",
    "solution2_first": true
   },
   "source": [
    "## <font color=\"orange\"> Dreiecksungleichung (20 min)  /Für Zuhause</font> \n",
    "\n",
    "Zeigen Sie, dass für beliebige reele Zahlen gilt : $\\forall x,y \\in \\mathbb{R}: |a-b| <= |a-c| + |c-b| $"
   ]
  },
  {
   "cell_type": "markdown",
   "metadata": {
    "solution2": "hidden"
   },
   "source": [
    "mit einer Änderung der Variablen\n",
    "- $x = a-c$\n",
    "- $y = c-b$\n",
    "\n",
    "Die Ungleichung kann ausgedrückt werden als\n",
    "$\\forall x\\in\\mathbb{R},y\\in\\mathbb{R}: |x+y| <= |x| + |y|$\n",
    "\n",
    "Da beide Seiten der Ungleichung nicht negativ sind, ist das Quadrieren eine Äquivalenzoperation.\n",
    "\n",
    "Quadrieren liefert:\n",
    "\n",
    "$x^2+2xy+y^2<=x^2+2|x||y|+y^2$\n",
    "\n",
    "Vereinfachung ergibt:\n",
    "$xy<=|x||y|$\n",
    "\n",
    " - Die Gleichung ist wahr, wenn entweder x oder y Null sind.\n",
    "\n",
    " - Betrachten wir nun wenn x, y sind nicht Null sind.\n",
    "   Es gibt vier Fälle für die Sig-Funktionen von y und x:\n",
    "   Wenn sich das Vorzeichen (x) und das Vorzeichen (y) unterscheiden, ist die linke Seite negativ und es gilt eine strikte Ungleichheit. Das Vorzeichen (x) und das Vorzeichen (y) sind gleich, beide Seiten sind gleich.\n",
    "\n",
    "$\\blacksquare$"
   ]
  },
  {
   "cell_type": "markdown",
   "metadata": {
    "lang": "de"
   },
   "source": [
    "#### Tabellen für die Vorzeichenmultiplikation ...\n",
    "0 bedeutet kleiner 0\n",
    "1 bedeutet größer 0"
   ]
  },
  {
   "cell_type": "code",
   "execution_count": 74,
   "metadata": {
    "ExecuteTime": {
     "end_time": "2021-10-23T18:21:01.773005Z",
     "start_time": "2021-10-23T18:21:01.759675Z"
    },
    "scrolled": true
   },
   "outputs": [
    {
     "data": {
      "text/html": [
       "<div>\n",
       "<style scoped>\n",
       "    .dataframe tbody tr th:only-of-type {\n",
       "        vertical-align: middle;\n",
       "    }\n",
       "\n",
       "    .dataframe tbody tr th {\n",
       "        vertical-align: top;\n",
       "    }\n",
       "\n",
       "    .dataframe thead th {\n",
       "        text-align: right;\n",
       "    }\n",
       "</style>\n",
       "<table border=\"1\" class=\"dataframe\">\n",
       "  <thead>\n",
       "    <tr style=\"text-align: right;\">\n",
       "      <th></th>\n",
       "      <th>0</th>\n",
       "      <th>1</th>\n",
       "    </tr>\n",
       "  </thead>\n",
       "  <tbody>\n",
       "    <tr>\n",
       "      <th>0</th>\n",
       "      <td>1</td>\n",
       "      <td>0</td>\n",
       "    </tr>\n",
       "    <tr>\n",
       "      <th>1</th>\n",
       "      <td>0</td>\n",
       "      <td>1</td>\n",
       "    </tr>\n",
       "  </tbody>\n",
       "</table>\n",
       "</div>"
      ],
      "text/plain": [
       "   0  1\n",
       "0  1  0\n",
       "1  0  1"
      ]
     },
     "execution_count": 74,
     "metadata": {},
     "output_type": "execute_result"
    }
   ],
   "source": [
    "import numpy as np\n",
    "import pandas as pd\n",
    "my = [-1, 1]\n",
    "signmultiplication=pd.DataFrame(np.equal.outer(my, my)).astype(int)\n",
    "signmultiplication"
   ]
  },
  {
   "cell_type": "code",
   "execution_count": 75,
   "metadata": {
    "ExecuteTime": {
     "end_time": "2021-10-23T18:21:02.146783Z",
     "start_time": "2021-10-23T18:21:01.946848Z"
    },
    "scrolled": true
   },
   "outputs": [
    {
     "data": {
      "image/png": "[encoded data removed]",
      "text/plain": [
       "<Figure size 432x288 with 1 Axes>"
      ]
     },
     "metadata": {
      "needs_background": "light"
     },
     "output_type": "display_data"
    }
   ],
   "source": [
    "import matplotlib.pyplot as plt\n",
    "_ = plt.imshow(signmultiplication)"
   ]
  },
  {
   "cell_type": "markdown",
   "metadata": {
    "lang": "de"
   },
   "source": [
    "## Beispiel: div und mod"
   ]
  },
  {
   "cell_type": "code",
   "execution_count": 70,
   "metadata": {
    "ExecuteTime": {
     "end_time": "2021-10-23T18:21:00.400843Z",
     "start_time": "2021-10-23T18:21:00.388817Z"
    },
    "scrolled": false
   },
   "outputs": [
    {
     "data": {
      "text/plain": [
       "2"
      ]
     },
     "execution_count": 70,
     "metadata": {},
     "output_type": "execute_result"
    }
   ],
   "source": [
    "mod(8,6) # ... already known\n",
    "# this is best suited for modulo arithmetic"
   ]
  },
  {
   "cell_type": "markdown",
   "metadata": {
    "lang": "de"
   },
   "source": [
    "### ... alternative Notationen"
   ]
  },
  {
   "cell_type": "code",
   "execution_count": 71,
   "metadata": {
    "ExecuteTime": {
     "end_time": "2021-10-23T18:21:00.419647Z",
     "start_time": "2021-10-23T18:21:00.405691Z"
    },
    "scrolled": true
   },
   "outputs": [
    {
     "name": "stdout",
     "output_type": "stream",
     "text": [
      "div: 1\n",
      "mod: 2\n"
     ]
    }
   ],
   "source": [
    "mydiv, mymod = divmod (8, 6)\n",
    "print ('div:', mydiv)\n",
    "print ('mod:', mymod)"
   ]
  },
  {
   "cell_type": "markdown",
   "metadata": {
    "lang": "de"
   },
   "source": [
    "### ... noch mehr alternative Notationen"
   ]
  },
  {
   "cell_type": "code",
   "execution_count": 72,
   "metadata": {
    "ExecuteTime": {
     "end_time": "2021-10-23T18:21:00.434751Z",
     "start_time": "2021-10-23T18:21:00.424834Z"
    }
   },
   "outputs": [
    {
     "data": {
      "text/plain": [
       "2"
      ]
     },
     "execution_count": 72,
     "metadata": {},
     "output_type": "execute_result"
    }
   ],
   "source": [
    "# in normal python\n",
    "8 % 6"
   ]
  },
  {
   "cell_type": "code",
   "execution_count": 73,
   "metadata": {
    "ExecuteTime": {
     "end_time": "2021-10-23T18:21:00.453730Z",
     "start_time": "2021-10-23T18:21:00.441896Z"
    },
    "scrolled": false
   },
   "outputs": [
    {
     "data": {
      "text/plain": [
       "1"
      ]
     },
     "execution_count": 73,
     "metadata": {},
     "output_type": "execute_result"
    }
   ],
   "source": [
    "8 // 6"
   ]
  },
  {
   "cell_type": "markdown",
   "metadata": {
    "lang": "de",
    "solution2": "hidden",
    "solution2_first": true
   },
   "source": [
    "## <font color='orange' >Übung</font>\n",
    "### a)\n",
    "Teilen Sie 147 und 23 mit Hilfe der Funktionen div und mod"
   ]
  },
  {
   "cell_type": "code",
   "execution_count": 77,
   "metadata": {
    "ExecuteTime": {
     "end_time": "2021-10-23T18:21:02.867608Z",
     "start_time": "2021-10-23T18:21:02.857477Z"
    },
    "solution2": "hidden"
   },
   "outputs": [
    {
     "data": {
      "text/plain": [
       "(6, 9)"
      ]
     },
     "execution_count": 77,
     "metadata": {},
     "output_type": "execute_result"
    }
   ],
   "source": [
    "divmod(147, 23)"
   ]
  },
  {
   "cell_type": "code",
   "execution_count": 78,
   "metadata": {
    "ExecuteTime": {
     "end_time": "2021-10-23T18:21:03.014441Z",
     "start_time": "2021-10-23T18:21:03.004816Z"
    },
    "solution2": "hidden"
   },
   "outputs": [
    {
     "data": {
      "text/plain": [
       "138"
      ]
     },
     "execution_count": 78,
     "metadata": {},
     "output_type": "execute_result"
    }
   ],
   "source": [
    "6*23"
   ]
  },
  {
   "cell_type": "code",
   "execution_count": 79,
   "metadata": {
    "ExecuteTime": {
     "end_time": "2021-10-23T18:21:03.913648Z",
     "start_time": "2021-10-23T18:21:03.904716Z"
    },
    "scrolled": true,
    "solution2": "hidden"
   },
   "outputs": [
    {
     "data": {
      "text/plain": [
       "147"
      ]
     },
     "execution_count": 79,
     "metadata": {},
     "output_type": "execute_result"
    }
   ],
   "source": [
    "6*23 + 9"
   ]
  },
  {
   "cell_type": "markdown",
   "metadata": {
    "lang": "de",
    "solution2": "hidden",
    "solution2_first": true
   },
   "source": [
    "### b) Zeigen Sie, dass für \n",
    "\n",
    "$ \n",
    "\\begin{equation}\n",
    "\\forall a\\in\\mathbb{Z}, b\\in\\mathbb{Z}\\ mit\\ b\\neq 0 \\\\\n",
    "\\end{equation}\n",
    "$\n",
    "\n",
    "$0<=amodb< b$"
   ]
  },
  {
   "cell_type": "markdown",
   "metadata": {
    "solution2": "hidden"
   },
   "source": [
    "Beweis: \n",
    "Es gibt eindeutige Zahlen, so dass\n",
    "\n",
    "\n",
    "$q,r \\in\\mathbb{Z} \\land 0<=r<b \\land a=q*b+r$\n",
    "\n",
    "r heißt a mod b, q ist a div b\n",
    "\n",
    "b) $0<=amodb< b$ per definitionem"
   ]
  },
  {
   "cell_type": "code",
   "execution_count": null,
   "metadata": {},
   "outputs": [],
   "source": [
    "\n"
   ]
  },
  {
   "cell_type": "markdown",
   "metadata": {},
   "source": [
    "## <font color='red'>Ende Vorlesung 4 (geplant) </font>"
   ]
  },
  {
   "cell_type": "code",
   "execution_count": null,
   "metadata": {},
   "outputs": [],
   "source": []
  },
  {
   "cell_type": "markdown",
   "metadata": {
    "ExecuteTime": {
     "end_time": "2021-10-30T11:31:35.842256Z",
     "start_time": "2021-10-30T11:31:35.837597Z"
    }
   },
   "source": [
    "# <font color='orange'>Äquivalenzrelationen am Beispiel des Uhrenrechnens </font>\n"
   ]
  },
  {
   "cell_type": "markdown",
   "metadata": {
    "lang": "de"
   },
   "source": [
    "## # <font color='orange'> Bearbeiten Sie Übung 40 (Logische Verknüpfungen von Bits & Bytes) im Skript.\n",
    "### a)"
   ]
  },
  {
   "cell_type": "code",
   "execution_count": 80,
   "metadata": {
    "ExecuteTime": {
     "end_time": "2021-10-23T18:21:07.621001Z",
     "start_time": "2021-10-23T18:21:07.608074Z"
    }
   },
   "outputs": [
    {
     "data": {
      "text/plain": [
       "[1, 0, 1, 0, 1, 0, 1, 0]"
      ]
     },
     "execution_count": 80,
     "metadata": {},
     "output_type": "execute_result"
    }
   ],
   "source": [
    "# AND\n",
    "X1 = [1,0,1,0,1,0,1,1]\n",
    "X2 = [1,1,1,1,1,1,1,0]\n",
    "\n",
    "[x1 and x2 for (x1, x2) in zip(X1, X2)]"
   ]
  },
  {
   "cell_type": "code",
   "execution_count": 81,
   "metadata": {
    "ExecuteTime": {
     "end_time": "2021-10-23T18:21:07.688687Z",
     "start_time": "2021-10-23T18:21:07.675825Z"
    }
   },
   "outputs": [
    {
     "data": {
      "text/plain": [
       "[1, 1, 1, 1, 1, 0, 0, 0]"
      ]
     },
     "execution_count": 81,
     "metadata": {},
     "output_type": "execute_result"
    }
   ],
   "source": [
    "# OR\n",
    "X1 = [1,1,1,1,1,0,0,0]\n",
    "X2 = [0,0,0,0,0,0,0,0]\n",
    "\n",
    "[x1 or x2 for (x1, x2) in zip(X1, X2)]"
   ]
  },
  {
   "cell_type": "code",
   "execution_count": 82,
   "metadata": {
    "ExecuteTime": {
     "end_time": "2021-10-23T18:21:09.049457Z",
     "start_time": "2021-10-23T18:21:09.039070Z"
    }
   },
   "outputs": [
    {
     "data": {
      "text/plain": [
       "[0, 0, 0, 0, 0, 1, 1, 1, 1]"
      ]
     },
     "execution_count": 82,
     "metadata": {},
     "output_type": "execute_result"
    }
   ],
   "source": [
    "# NOT\n",
    "X1 = [1,1,1,1,1,0,0,0,0]\n",
    "\n",
    "[int(not x1) for (x1,) in zip(X1)]"
   ]
  },
  {
   "cell_type": "code",
   "execution_count": 83,
   "metadata": {
    "ExecuteTime": {
     "end_time": "2021-10-23T18:21:09.723760Z",
     "start_time": "2021-10-23T18:21:09.711295Z"
    }
   },
   "outputs": [
    {
     "data": {
      "text/plain": [
       "[0, 1, 0, 1, 0, 0, 1, 0]"
      ]
     },
     "execution_count": 83,
     "metadata": {},
     "output_type": "execute_result"
    }
   ],
   "source": [
    "# XOR\n",
    "X1 = [1,1,1,1,1,0,0,0]\n",
    "X2 = [1,0,1,0,1,0,1,0]\n",
    "\n",
    "[int(x1!=x2) for (x1, x2) in zip(X1, X2)]"
   ]
  },
  {
   "cell_type": "markdown",
   "metadata": {
    "lang": "de"
   },
   "source": [
    "### b) Urbild (inverse image) des XOR\n",
    "\n",
    "Da XOR per defintionem auf die Komponenten separat wirkt, genügt die Betrachtung einer einzelnen Komponente\n",
    "\n",
    "- $XOR^{-1}(\\{0\\}) = \\{(0,0),(1,1) \\}$ und \n",
    "- $XOR^{-1}(\\{1\\}) = \\{(0,1),(1,0) \\}$\n",
    "\n",
    "Allgemein, um die Komponenten zusammenzufügen,\n",
    "\n",
    "$ \n",
    "\\begin{equation}\n",
    "XOR^{-1}(x_1x_2...x_n) = \\\\\n",
    "XOR^{-1}(\\{x_1\\})\\times XOR^{-1}(\\{x_2\\})\\ ...\\ \\times\\ XOR^{-1}(\\{x_n\\})\n",
    "\\end{equation}\n",
    "$\n",
    "\n",
    "Weiterhin ist das Urbild einer Menge die Vereinigungsmenge der Urbilder einer Zerlegung der Menge, zB. auch Elementweise.\n"
   ]
  },
  {
   "cell_type": "markdown",
   "metadata": {
    "lang": "de"
   },
   "source": [
    "### c) \n",
    "Im wesentlichen das Gleiche, mit 0=False, und 1=True\n",
    "\n",
    "$\\blacksquare$"
   ]
  },
  {
   "cell_type": "markdown",
   "metadata": {
    "lang": "de"
   },
   "source": [
    "# Euklidischer Algorithmus\n",
    "## Definition gcd\n",
    "\n",
    "\\begin{equation}\n",
    "a,b \\in\\mathbb{Z}\\ with\\ b\\neq 0 \\\\\n",
    "d := ggt(a,b)\\in\\mathbb{N} :\\iff \\\\\n",
    "d|a \\land d|b \\land \\\\\n",
    "\\forall d'\\in\\mathbb{N}\\ with\\ d'|a\\land\\ d'|b\\ \\rightarrow d'|d \n",
    "\\end{equation}\n",
    "\n",
    "Allgemeine Eigenschaften von ggt (Beobachtungen)\n",
    "\n",
    "- -\n",
    "- \\begin{equation}\n",
    "ggt(a,b) = k -> k*a_k = a \\land k*b_k=b\n",
    "\\end{equation}\n",
    "\n",
    "deshalb:\n",
    "- \\begin{equation}\n",
    "ggt(a,b) = k -> ggt(a, a-b) = k\n",
    "\\end{equation}\n",
    "\n",
    "\n",
    "## Beispiel 45\n",
    "ggt (144, 156) = 12,\n",
    "da\n",
    "- 144 = 12 * 12 und\n",
    "- 156 = 12 * 13 und 13 prim und 13> 12"
   ]
  },
  {
   "cell_type": "markdown",
   "metadata": {
    "lang": "de"
   },
   "source": [
    "# Euklidischer Algorithmus"
   ]
  },
  {
   "cell_type": "code",
   "execution_count": 2,
   "metadata": {
    "ExecuteTime": {
     "end_time": "2021-05-20T14:50:53.258195Z",
     "start_time": "2021-05-20T14:50:53.250534Z"
    }
   },
   "outputs": [],
   "source": [
    "from termcolor import colored"
   ]
  },
  {
   "cell_type": "code",
   "execution_count": 3,
   "metadata": {
    "ExecuteTime": {
     "end_time": "2021-05-20T14:50:53.267694Z",
     "start_time": "2021-05-20T14:50:53.260921Z"
    },
    "lang": "en"
   },
   "outputs": [],
   "source": [
    "def euk(a,b):\n",
    "    a, b = min(a,b), max(a, b)\n",
    "    print(colored(f'After reordering: a:{a} b:{b}','blue'))\n",
    "    \n",
    "    if a==0:\n",
    "        return b\n",
    "    \n",
    "    a, b = a, b-a\n",
    "    print(colored(f'After difference: a:{a} b:{b}', 'green'))\n",
    "    \n",
    "    return euk(a,b)"
   ]
  },
  {
   "cell_type": "markdown",
   "metadata": {
    "lang": "de"
   },
   "source": [
    "### Euklidischer Algorithmus (verbesserte, schnellere Version)"
   ]
  },
  {
   "cell_type": "code",
   "execution_count": 4,
   "metadata": {
    "ExecuteTime": {
     "end_time": "2021-05-20T14:50:53.321490Z",
     "start_time": "2021-05-20T14:50:53.314967Z"
    }
   },
   "outputs": [],
   "source": [
    "def euk_faster(a,b):\n",
    "    a, b = min(a,b), max(a, b)\n",
    "    print(colored(f'After reordering: a:{a} b:{b}','blue'))\n",
    "    \n",
    "    if a==0:\n",
    "        return b\n",
    "    \n",
    "    a, b = a, b%a\n",
    "    print(colored(f'After difference: a:{a} b:{b}', 'green'))\n",
    "    \n",
    "    return euk_faster(a,b)"
   ]
  },
  {
   "cell_type": "markdown",
   "metadata": {
    "lang": "de"
   },
   "source": [
    "# Beispiel 60"
   ]
  },
  {
   "cell_type": "code",
   "execution_count": 5,
   "metadata": {
    "ExecuteTime": {
     "end_time": "2021-05-20T14:50:53.393972Z",
     "start_time": "2021-05-20T14:50:53.376664Z"
    }
   },
   "outputs": [
    {
     "name": "stdout",
     "output_type": "stream",
     "text": [
      "\u001b[34mAfter reordering: a:144 b:156\u001b[0m\n",
      "\u001b[32mAfter difference: a:144 b:12\u001b[0m\n",
      "\u001b[34mAfter reordering: a:12 b:144\u001b[0m\n",
      "\u001b[32mAfter difference: a:12 b:132\u001b[0m\n",
      "\u001b[34mAfter reordering: a:12 b:132\u001b[0m\n",
      "\u001b[32mAfter difference: a:12 b:120\u001b[0m\n",
      "\u001b[34mAfter reordering: a:12 b:120\u001b[0m\n",
      "\u001b[32mAfter difference: a:12 b:108\u001b[0m\n",
      "\u001b[34mAfter reordering: a:12 b:108\u001b[0m\n",
      "\u001b[32mAfter difference: a:12 b:96\u001b[0m\n",
      "\u001b[34mAfter reordering: a:12 b:96\u001b[0m\n",
      "\u001b[32mAfter difference: a:12 b:84\u001b[0m\n",
      "\u001b[34mAfter reordering: a:12 b:84\u001b[0m\n",
      "\u001b[32mAfter difference: a:12 b:72\u001b[0m\n",
      "\u001b[34mAfter reordering: a:12 b:72\u001b[0m\n",
      "\u001b[32mAfter difference: a:12 b:60\u001b[0m\n",
      "\u001b[34mAfter reordering: a:12 b:60\u001b[0m\n",
      "\u001b[32mAfter difference: a:12 b:48\u001b[0m\n",
      "\u001b[34mAfter reordering: a:12 b:48\u001b[0m\n",
      "\u001b[32mAfter difference: a:12 b:36\u001b[0m\n",
      "\u001b[34mAfter reordering: a:12 b:36\u001b[0m\n",
      "\u001b[32mAfter difference: a:12 b:24\u001b[0m\n",
      "\u001b[34mAfter reordering: a:12 b:24\u001b[0m\n",
      "\u001b[32mAfter difference: a:12 b:12\u001b[0m\n",
      "\u001b[34mAfter reordering: a:12 b:12\u001b[0m\n",
      "\u001b[32mAfter difference: a:12 b:0\u001b[0m\n",
      "\u001b[34mAfter reordering: a:0 b:12\u001b[0m\n"
     ]
    },
    {
     "data": {
      "text/plain": [
       "12"
      ]
     },
     "execution_count": 5,
     "metadata": {},
     "output_type": "execute_result"
    }
   ],
   "source": [
    "euk(156,144)"
   ]
  },
  {
   "cell_type": "code",
   "execution_count": 6,
   "metadata": {
    "ExecuteTime": {
     "end_time": "2021-05-20T14:50:53.406457Z",
     "start_time": "2021-05-20T14:50:53.396158Z"
    }
   },
   "outputs": [
    {
     "name": "stdout",
     "output_type": "stream",
     "text": [
      "\u001b[34mAfter reordering: a:144 b:156\u001b[0m\n",
      "\u001b[32mAfter difference: a:144 b:12\u001b[0m\n",
      "\u001b[34mAfter reordering: a:12 b:144\u001b[0m\n",
      "\u001b[32mAfter difference: a:12 b:0\u001b[0m\n",
      "\u001b[34mAfter reordering: a:0 b:12\u001b[0m\n"
     ]
    },
    {
     "data": {
      "text/plain": [
       "12"
      ]
     },
     "execution_count": 6,
     "metadata": {},
     "output_type": "execute_result"
    }
   ],
   "source": [
    "euk_faster(156,144)"
   ]
  },
  {
   "cell_type": "code",
   "execution_count": 10,
   "metadata": {},
   "outputs": [
    {
     "name": "stdout",
     "output_type": "stream",
     "text": [
      "\u001b[34mAfter reordering: a:12 b:36\u001b[0m\n",
      "\u001b[32mAfter difference: a:12 b:0\u001b[0m\n",
      "\u001b[34mAfter reordering: a:0 b:12\u001b[0m\n"
     ]
    },
    {
     "data": {
      "text/plain": [
       "12"
      ]
     },
     "execution_count": 10,
     "metadata": {},
     "output_type": "execute_result"
    }
   ],
   "source": [
    "euk_faster(12,36)"
   ]
  },
  {
   "cell_type": "markdown",
   "metadata": {
    "lang": "de"
   },
   "source": [
    "# Übung 4.9"
   ]
  },
  {
   "cell_type": "code",
   "execution_count": 12,
   "metadata": {
    "ExecuteTime": {
     "end_time": "2021-05-20T14:50:53.448759Z",
     "start_time": "2021-05-20T14:50:53.442196Z"
    },
    "scrolled": true
   },
   "outputs": [
    {
     "name": "stdout",
     "output_type": "stream",
     "text": [
      "\u001b[34mAfter reordering: a:1029 b:1071\u001b[0m\n",
      "\u001b[32mAfter difference: a:1029 b:42\u001b[0m\n",
      "\u001b[34mAfter reordering: a:42 b:1029\u001b[0m\n",
      "\u001b[32mAfter difference: a:42 b:21\u001b[0m\n",
      "\u001b[34mAfter reordering: a:21 b:42\u001b[0m\n",
      "\u001b[32mAfter difference: a:21 b:0\u001b[0m\n",
      "\u001b[34mAfter reordering: a:0 b:21\u001b[0m\n"
     ]
    },
    {
     "data": {
      "text/plain": [
       "21"
      ]
     },
     "execution_count": 12,
     "metadata": {},
     "output_type": "execute_result"
    }
   ],
   "source": [
    "euk_faster(1071, 1029)"
   ]
  },
  {
   "cell_type": "code",
   "execution_count": null,
   "metadata": {},
   "outputs": [],
   "source": []
  }
 ],
 "metadata": {
  "kernelspec": {
   "display_name": "SageMath 9.3.beta8",
   "language": "sage",
   "name": "sagemath"
  },
  "language_info": {
   "codemirror_mode": {
    "name": "ipython",
    "version": 3
   },
   "file_extension": ".py",
   "mimetype": "text/x-python",
   "name": "python",
   "nbconvert_exporter": "python",
   "pygments_lexer": "ipython3",
   "version": "3.9.1"
  },
  "latex_envs": {
   "LaTeX_envs_menu_present": true,
   "autoclose": false,
   "autocomplete": true,
   "bibliofile": "biblio.bib",
   "cite_by": "apalike",
   "current_citInitial": 1,
   "eqLabelWithNumbers": true,
   "eqNumInitial": 1,
   "hotkeys": {
    "equation": "Ctrl-E",
    "itemize": "Ctrl-I"
   },
   "labels_anchors": false,
   "latex_user_defs": false,
   "report_style_numbering": false,
   "user_envs_cfg": false
  },
  "nbTranslate": {
   "displayLangs": [
    "de"
   ],
   "hotkey": "alt-t",
   "langInMainMenu": true,
   "sourceLang": "en",
   "targetLang": "de",
   "useGoogleTranslate": true
  },
  "toc": {
   "base_numbering": 1,
   "nav_menu": {},
   "number_sections": true,
   "sideBar": true,
   "skip_h1_title": false,
   "title_cell": "Table of Contents",
   "title_sidebar": "Contents",
   "toc_cell": false,
   "toc_position": {
    "height": "574.4px",
    "left": "106px",
    "top": "349.8px",
    "width": "484.669px"
   },
   "toc_section_display": true,
   "toc_window_display": false
  }
 },
 "nbformat": 4,
 "nbformat_minor": 2
}
